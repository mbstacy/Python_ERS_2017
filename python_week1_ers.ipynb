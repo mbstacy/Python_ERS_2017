{
 "cells": [
  {
   "cell_type": "markdown",
   "metadata": {},
   "source": [
    "# ERS 2017\n",
    "\n",
    "Markdown cells are a nice way to add comments to your code!"
   ]
  },
  {
   "cell_type": "markdown",
   "metadata": {},
   "source": [
    "### Variables"
   ]
  },
  {
   "cell_type": "code",
   "execution_count": 1,
   "metadata": {
    "collapsed": true
   },
   "outputs": [],
   "source": [
    "age = 479\n",
    "first_name = \"Mark\""
   ]
  },
  {
   "cell_type": "code",
   "execution_count": 2,
   "metadata": {
    "collapsed": false
   },
   "outputs": [
    {
     "name": "stdout",
     "output_type": "stream",
     "text": [
      "Mark Stacy is  479 years old!\n"
     ]
    }
   ],
   "source": [
    "print(first_name,\"Stacy is \",age, \"years old!\")"
   ]
  },
  {
   "cell_type": "code",
   "execution_count": 3,
   "metadata": {
    "collapsed": false
   },
   "outputs": [
    {
     "data": {
      "text/plain": [
       "8"
      ]
     },
     "execution_count": 3,
     "metadata": {},
     "output_type": "execute_result"
    }
   ],
   "source": [
    "3+5"
   ]
  },
  {
   "cell_type": "code",
   "execution_count": 4,
   "metadata": {
    "collapsed": false
   },
   "outputs": [
    {
     "data": {
      "text/plain": [
       "4"
      ]
     },
     "execution_count": 4,
     "metadata": {},
     "output_type": "execute_result"
    }
   ],
   "source": [
    "len(first_name)"
   ]
  },
  {
   "cell_type": "code",
   "execution_count": 5,
   "metadata": {
    "collapsed": false
   },
   "outputs": [
    {
     "data": {
      "text/plain": [
       "'r'"
      ]
     },
     "execution_count": 5,
     "metadata": {},
     "output_type": "execute_result"
    }
   ],
   "source": [
    "first_name[-2]"
   ]
  },
  {
   "cell_type": "markdown",
   "metadata": {},
   "source": [
    "Python Function can be chained together or separted! The reason for this example is to show that you can not slice a int data type, but can use conversion to string data type to find a solution."
   ]
  },
  {
   "cell_type": "code",
   "execution_count": 6,
   "metadata": {
    "collapsed": false
   },
   "outputs": [
    {
     "data": {
      "text/plain": [
       "4"
      ]
     },
     "execution_count": 6,
     "metadata": {},
     "output_type": "execute_result"
    }
   ],
   "source": [
    "str_age = str(age)\n",
    "temp = str_age[0]\n",
    "int(temp)"
   ]
  },
  {
   "cell_type": "code",
   "execution_count": 7,
   "metadata": {
    "collapsed": false
   },
   "outputs": [
    {
     "data": {
      "text/plain": [
       "4"
      ]
     },
     "execution_count": 7,
     "metadata": {},
     "output_type": "execute_result"
    }
   ],
   "source": [
    "int(str(age)[0])"
   ]
  },
  {
   "cell_type": "markdown",
   "metadata": {},
   "source": [
    "### Data Types"
   ]
  },
  {
   "cell_type": "code",
   "execution_count": 8,
   "metadata": {
    "collapsed": false
   },
   "outputs": [
    {
     "data": {
      "text/plain": [
       "int"
      ]
     },
     "execution_count": 8,
     "metadata": {},
     "output_type": "execute_result"
    }
   ],
   "source": [
    "type(age)"
   ]
  },
  {
   "cell_type": "code",
   "execution_count": 9,
   "metadata": {
    "collapsed": true
   },
   "outputs": [],
   "source": [
    "test = \"=\""
   ]
  },
  {
   "cell_type": "code",
   "execution_count": 10,
   "metadata": {
    "collapsed": false
   },
   "outputs": [],
   "source": [
    "t_10 = test * 10"
   ]
  },
  {
   "cell_type": "code",
   "execution_count": 11,
   "metadata": {
    "collapsed": false
   },
   "outputs": [
    {
     "ename": "TypeError",
     "evalue": "unsupported operand type(s) for -: 'str' and 'str'",
     "output_type": "error",
     "traceback": [
      "\u001b[0;31m---------------------------------------------------------------------------\u001b[0m",
      "\u001b[0;31mTypeError\u001b[0m                                 Traceback (most recent call last)",
      "\u001b[0;32m<ipython-input-11-0629739eaf6f>\u001b[0m in \u001b[0;36m<module>\u001b[0;34m()\u001b[0m\n\u001b[0;32m----> 1\u001b[0;31m \u001b[0mt_10\u001b[0m \u001b[0;34m-\u001b[0m \u001b[0;34m'='\u001b[0m\u001b[0;34m\u001b[0m\u001b[0m\n\u001b[0m",
      "\u001b[0;31mTypeError\u001b[0m: unsupported operand type(s) for -: 'str' and 'str'"
     ]
    }
   ],
   "source": [
    "t_10 - '='"
   ]
  },
  {
   "cell_type": "code",
   "execution_count": 12,
   "metadata": {
    "collapsed": false
   },
   "outputs": [
    {
     "data": {
      "text/plain": [
       "'======'"
      ]
     },
     "execution_count": 12,
     "metadata": {},
     "output_type": "execute_result"
    }
   ],
   "source": [
    "\"=\" + \"=====\""
   ]
  },
  {
   "cell_type": "code",
   "execution_count": 13,
   "metadata": {
    "collapsed": false
   },
   "outputs": [],
   "source": [
    "ndvi =\"fjdklfjsdlk\""
   ]
  },
  {
   "cell_type": "markdown",
   "metadata": {},
   "source": [
    "### Built in Functions per Data Types"
   ]
  },
  {
   "cell_type": "code",
   "execution_count": 14,
   "metadata": {
    "collapsed": false
   },
   "outputs": [
    {
     "name": "stdout",
     "output_type": "stream",
     "text": [
      "3\n"
     ]
    }
   ],
   "source": [
    "print(max(1,2,3))"
   ]
  },
  {
   "cell_type": "code",
   "execution_count": 15,
   "metadata": {
    "collapsed": false
   },
   "outputs": [
    {
     "name": "stdout",
     "output_type": "stream",
     "text": [
      "a\n"
     ]
    }
   ],
   "source": [
    "print(min('a','b','c'))"
   ]
  },
  {
   "cell_type": "code",
   "execution_count": 16,
   "metadata": {
    "collapsed": false
   },
   "outputs": [
    {
     "name": "stdout",
     "output_type": "stream",
     "text": [
      "+\n"
     ]
    }
   ],
   "source": [
    "print(min('+','a'))"
   ]
  },
  {
   "cell_type": "code",
   "execution_count": 17,
   "metadata": {
    "collapsed": false
   },
   "outputs": [
    {
     "data": {
      "text/plain": [
       "3"
      ]
     },
     "execution_count": 17,
     "metadata": {},
     "output_type": "execute_result"
    }
   ],
   "source": [
    "round(3.49)"
   ]
  },
  {
   "cell_type": "code",
   "execution_count": 18,
   "metadata": {
    "collapsed": false
   },
   "outputs": [],
   "source": [
    "last_name=\"Stacy\"\n"
   ]
  },
  {
   "cell_type": "code",
   "execution_count": 19,
   "metadata": {
    "collapsed": false
   },
   "outputs": [
    {
     "name": "stdout",
     "output_type": "stream",
     "text": [
      "Mark STACY\n"
     ]
    }
   ],
   "source": [
    "print (first_name,last_name.upper())"
   ]
  },
  {
   "cell_type": "code",
   "execution_count": 20,
   "metadata": {
    "collapsed": false
   },
   "outputs": [
    {
     "name": "stdout",
     "output_type": "stream",
     "text": [
      "4\n",
      "5\n"
     ]
    }
   ],
   "source": [
    "print(len(first_name))\n",
    "print(len(last_name))"
   ]
  },
  {
   "cell_type": "markdown",
   "metadata": {},
   "source": [
    "### Import Libraries\n",
    "\n",
    "Power of a programming languages is the Libraries that are available!"
   ]
  },
  {
   "cell_type": "code",
   "execution_count": 21,
   "metadata": {
    "collapsed": true
   },
   "outputs": [],
   "source": [
    "import math"
   ]
  },
  {
   "cell_type": "code",
   "execution_count": 22,
   "metadata": {
    "collapsed": false
   },
   "outputs": [
    {
     "data": {
      "text/plain": [
       "-1.0"
      ]
     },
     "execution_count": 22,
     "metadata": {},
     "output_type": "execute_result"
    }
   ],
   "source": [
    "math.cos(math.pi)"
   ]
  },
  {
   "cell_type": "code",
   "execution_count": 23,
   "metadata": {
    "collapsed": true
   },
   "outputs": [],
   "source": [
    "from math import cos, pi"
   ]
  },
  {
   "cell_type": "code",
   "execution_count": 24,
   "metadata": {
    "collapsed": false
   },
   "outputs": [
    {
     "data": {
      "text/plain": [
       "-1.0"
      ]
     },
     "execution_count": 24,
     "metadata": {},
     "output_type": "execute_result"
    }
   ],
   "source": [
    "cos(pi)"
   ]
  },
  {
   "cell_type": "markdown",
   "metadata": {},
   "source": [
    "### Help\n",
    "\n",
    "1. help() # function\n",
    "2. math?\n",
    "3. math.cos( press keys shift and tab"
   ]
  },
  {
   "cell_type": "code",
   "execution_count": 25,
   "metadata": {
    "collapsed": false
   },
   "outputs": [
    {
     "name": "stdout",
     "output_type": "stream",
     "text": [
      "Help on module math:\n",
      "\n",
      "NAME\n",
      "    math\n",
      "\n",
      "MODULE REFERENCE\n",
      "    https://docs.python.org/3.6/library/math\n",
      "    \n",
      "    The following documentation is automatically generated from the Python\n",
      "    source files.  It may be incomplete, incorrect or include features that\n",
      "    are considered implementation detail and may vary between Python\n",
      "    implementations.  When in doubt, consult the module reference at the\n",
      "    location listed above.\n",
      "\n",
      "DESCRIPTION\n",
      "    This module is always available.  It provides access to the\n",
      "    mathematical functions defined by the C standard.\n",
      "\n",
      "FUNCTIONS\n",
      "    acos(...)\n",
      "        acos(x)\n",
      "        \n",
      "        Return the arc cosine (measured in radians) of x.\n",
      "    \n",
      "    acosh(...)\n",
      "        acosh(x)\n",
      "        \n",
      "        Return the inverse hyperbolic cosine of x.\n",
      "    \n",
      "    asin(...)\n",
      "        asin(x)\n",
      "        \n",
      "        Return the arc sine (measured in radians) of x.\n",
      "    \n",
      "    asinh(...)\n",
      "        asinh(x)\n",
      "        \n",
      "        Return the inverse hyperbolic sine of x.\n",
      "    \n",
      "    atan(...)\n",
      "        atan(x)\n",
      "        \n",
      "        Return the arc tangent (measured in radians) of x.\n",
      "    \n",
      "    atan2(...)\n",
      "        atan2(y, x)\n",
      "        \n",
      "        Return the arc tangent (measured in radians) of y/x.\n",
      "        Unlike atan(y/x), the signs of both x and y are considered.\n",
      "    \n",
      "    atanh(...)\n",
      "        atanh(x)\n",
      "        \n",
      "        Return the inverse hyperbolic tangent of x.\n",
      "    \n",
      "    ceil(...)\n",
      "        ceil(x)\n",
      "        \n",
      "        Return the ceiling of x as an Integral.\n",
      "        This is the smallest integer >= x.\n",
      "    \n",
      "    copysign(...)\n",
      "        copysign(x, y)\n",
      "        \n",
      "        Return a float with the magnitude (absolute value) of x but the sign \n",
      "        of y. On platforms that support signed zeros, copysign(1.0, -0.0) \n",
      "        returns -1.0.\n",
      "    \n",
      "    cos(...)\n",
      "        cos(x)\n",
      "        \n",
      "        Return the cosine of x (measured in radians).\n",
      "    \n",
      "    cosh(...)\n",
      "        cosh(x)\n",
      "        \n",
      "        Return the hyperbolic cosine of x.\n",
      "    \n",
      "    degrees(...)\n",
      "        degrees(x)\n",
      "        \n",
      "        Convert angle x from radians to degrees.\n",
      "    \n",
      "    erf(...)\n",
      "        erf(x)\n",
      "        \n",
      "        Error function at x.\n",
      "    \n",
      "    erfc(...)\n",
      "        erfc(x)\n",
      "        \n",
      "        Complementary error function at x.\n",
      "    \n",
      "    exp(...)\n",
      "        exp(x)\n",
      "        \n",
      "        Return e raised to the power of x.\n",
      "    \n",
      "    expm1(...)\n",
      "        expm1(x)\n",
      "        \n",
      "        Return exp(x)-1.\n",
      "        This function avoids the loss of precision involved in the direct evaluation of exp(x)-1 for small x.\n",
      "    \n",
      "    fabs(...)\n",
      "        fabs(x)\n",
      "        \n",
      "        Return the absolute value of the float x.\n",
      "    \n",
      "    factorial(...)\n",
      "        factorial(x) -> Integral\n",
      "        \n",
      "        Find x!. Raise a ValueError if x is negative or non-integral.\n",
      "    \n",
      "    floor(...)\n",
      "        floor(x)\n",
      "        \n",
      "        Return the floor of x as an Integral.\n",
      "        This is the largest integer <= x.\n",
      "    \n",
      "    fmod(...)\n",
      "        fmod(x, y)\n",
      "        \n",
      "        Return fmod(x, y), according to platform C.  x % y may differ.\n",
      "    \n",
      "    frexp(...)\n",
      "        frexp(x)\n",
      "        \n",
      "        Return the mantissa and exponent of x, as pair (m, e).\n",
      "        m is a float and e is an int, such that x = m * 2.**e.\n",
      "        If x is 0, m and e are both 0.  Else 0.5 <= abs(m) < 1.0.\n",
      "    \n",
      "    fsum(...)\n",
      "        fsum(iterable)\n",
      "        \n",
      "        Return an accurate floating point sum of values in the iterable.\n",
      "        Assumes IEEE-754 floating point arithmetic.\n",
      "    \n",
      "    gamma(...)\n",
      "        gamma(x)\n",
      "        \n",
      "        Gamma function at x.\n",
      "    \n",
      "    gcd(...)\n",
      "        gcd(x, y) -> int\n",
      "        greatest common divisor of x and y\n",
      "    \n",
      "    hypot(...)\n",
      "        hypot(x, y)\n",
      "        \n",
      "        Return the Euclidean distance, sqrt(x*x + y*y).\n",
      "    \n",
      "    isclose(...)\n",
      "        isclose(a, b, *, rel_tol=1e-09, abs_tol=0.0) -> bool\n",
      "        \n",
      "        Determine whether two floating point numbers are close in value.\n",
      "        \n",
      "           rel_tol\n",
      "               maximum difference for being considered \"close\", relative to the\n",
      "               magnitude of the input values\n",
      "            abs_tol\n",
      "               maximum difference for being considered \"close\", regardless of the\n",
      "               magnitude of the input values\n",
      "        \n",
      "        Return True if a is close in value to b, and False otherwise.\n",
      "        \n",
      "        For the values to be considered close, the difference between them\n",
      "        must be smaller than at least one of the tolerances.\n",
      "        \n",
      "        -inf, inf and NaN behave similarly to the IEEE 754 Standard.  That\n",
      "        is, NaN is not close to anything, even itself.  inf and -inf are\n",
      "        only close to themselves.\n",
      "    \n",
      "    isfinite(...)\n",
      "        isfinite(x) -> bool\n",
      "        \n",
      "        Return True if x is neither an infinity nor a NaN, and False otherwise.\n",
      "    \n",
      "    isinf(...)\n",
      "        isinf(x) -> bool\n",
      "        \n",
      "        Return True if x is a positive or negative infinity, and False otherwise.\n",
      "    \n",
      "    isnan(...)\n",
      "        isnan(x) -> bool\n",
      "        \n",
      "        Return True if x is a NaN (not a number), and False otherwise.\n",
      "    \n",
      "    ldexp(...)\n",
      "        ldexp(x, i)\n",
      "        \n",
      "        Return x * (2**i).\n",
      "    \n",
      "    lgamma(...)\n",
      "        lgamma(x)\n",
      "        \n",
      "        Natural logarithm of absolute value of Gamma function at x.\n",
      "    \n",
      "    log(...)\n",
      "        log(x[, base])\n",
      "        \n",
      "        Return the logarithm of x to the given base.\n",
      "        If the base not specified, returns the natural logarithm (base e) of x.\n",
      "    \n",
      "    log10(...)\n",
      "        log10(x)\n",
      "        \n",
      "        Return the base 10 logarithm of x.\n",
      "    \n",
      "    log1p(...)\n",
      "        log1p(x)\n",
      "        \n",
      "        Return the natural logarithm of 1+x (base e).\n",
      "        The result is computed in a way which is accurate for x near zero.\n",
      "    \n",
      "    log2(...)\n",
      "        log2(x)\n",
      "        \n",
      "        Return the base 2 logarithm of x.\n",
      "    \n",
      "    modf(...)\n",
      "        modf(x)\n",
      "        \n",
      "        Return the fractional and integer parts of x.  Both results carry the sign\n",
      "        of x and are floats.\n",
      "    \n",
      "    pow(...)\n",
      "        pow(x, y)\n",
      "        \n",
      "        Return x**y (x to the power of y).\n",
      "    \n",
      "    radians(...)\n",
      "        radians(x)\n",
      "        \n",
      "        Convert angle x from degrees to radians.\n",
      "    \n",
      "    sin(...)\n",
      "        sin(x)\n",
      "        \n",
      "        Return the sine of x (measured in radians).\n",
      "    \n",
      "    sinh(...)\n",
      "        sinh(x)\n",
      "        \n",
      "        Return the hyperbolic sine of x.\n",
      "    \n",
      "    sqrt(...)\n",
      "        sqrt(x)\n",
      "        \n",
      "        Return the square root of x.\n",
      "    \n",
      "    tan(...)\n",
      "        tan(x)\n",
      "        \n",
      "        Return the tangent of x (measured in radians).\n",
      "    \n",
      "    tanh(...)\n",
      "        tanh(x)\n",
      "        \n",
      "        Return the hyperbolic tangent of x.\n",
      "    \n",
      "    trunc(...)\n",
      "        trunc(x:Real) -> Integral\n",
      "        \n",
      "        Truncates x to the nearest Integral toward 0. Uses the __trunc__ magic method.\n",
      "\n",
      "DATA\n",
      "    e = 2.718281828459045\n",
      "    inf = inf\n",
      "    nan = nan\n",
      "    pi = 3.141592653589793\n",
      "    tau = 6.283185307179586\n",
      "\n",
      "FILE\n",
      "    /Users/mstacy/anaconda36/lib/python3.6/lib-dynload/math.cpython-36m-darwin.so\n",
      "\n",
      "\n"
     ]
    }
   ],
   "source": [
    "help(math)"
   ]
  },
  {
   "cell_type": "markdown",
   "metadata": {},
   "source": [
    "### Alias libraries"
   ]
  },
  {
   "cell_type": "code",
   "execution_count": 26,
   "metadata": {
    "collapsed": false
   },
   "outputs": [
    {
     "name": "stdout",
     "output_type": "stream",
     "text": [
      "90.0\n"
     ]
    }
   ],
   "source": [
    "import math as m\n",
    "angle = m.degrees(m.pi/2)\n",
    "print(angle) "
   ]
  },
  {
   "cell_type": "code",
   "execution_count": 27,
   "metadata": {
    "collapsed": false
   },
   "outputs": [
    {
     "name": "stdout",
     "output_type": "stream",
     "text": [
      "Variable     Type                          Data/Info\n",
      "----------------------------------------------------\n",
      "age          int                           479\n",
      "angle        float                         90.0\n",
      "cos          builtin_function_or_method    <built-in function cos>\n",
      "first_name   str                           Mark\n",
      "last_name    str                           Stacy\n",
      "m            module                        <module 'math' from '/Use<...>h.cpython-36m-darwin.so'>\n",
      "math         module                        <module 'math' from '/Use<...>h.cpython-36m-darwin.so'>\n",
      "ndvi         str                           fjdklfjsdlk\n",
      "pi           float                         3.141592653589793\n",
      "str_age      str                           479\n",
      "t_10         str                           ==========\n",
      "temp         str                           4\n",
      "test         str                           =\n"
     ]
    }
   ],
   "source": [
    "whos"
   ]
  },
  {
   "cell_type": "markdown",
   "metadata": {},
   "source": [
    "### Python Data Analysis Library"
   ]
  },
  {
   "cell_type": "code",
   "execution_count": 28,
   "metadata": {
    "collapsed": true
   },
   "outputs": [],
   "source": [
    "import pandas as pd"
   ]
  },
  {
   "cell_type": "code",
   "execution_count": 29,
   "metadata": {
    "collapsed": true
   },
   "outputs": [],
   "source": [
    "data = pd.read_csv('data/gapminder_gdp_oceania.csv')"
   ]
  },
  {
   "cell_type": "code",
   "execution_count": 30,
   "metadata": {
    "collapsed": false
   },
   "outputs": [
    {
     "data": {
      "text/html": [
       "<div>\n",
       "<table border=\"1\" class=\"dataframe\">\n",
       "  <thead>\n",
       "    <tr style=\"text-align: right;\">\n",
       "      <th></th>\n",
       "      <th>country</th>\n",
       "      <th>gdpPercap_1952</th>\n",
       "      <th>gdpPercap_1957</th>\n",
       "      <th>gdpPercap_1962</th>\n",
       "      <th>gdpPercap_1967</th>\n",
       "      <th>gdpPercap_1972</th>\n",
       "      <th>gdpPercap_1977</th>\n",
       "      <th>gdpPercap_1982</th>\n",
       "      <th>gdpPercap_1987</th>\n",
       "      <th>gdpPercap_1992</th>\n",
       "      <th>gdpPercap_1997</th>\n",
       "      <th>gdpPercap_2002</th>\n",
       "      <th>gdpPercap_2007</th>\n",
       "    </tr>\n",
       "  </thead>\n",
       "  <tbody>\n",
       "    <tr>\n",
       "      <th>0</th>\n",
       "      <td>Australia</td>\n",
       "      <td>10039.59564</td>\n",
       "      <td>10949.64959</td>\n",
       "      <td>12217.22686</td>\n",
       "      <td>14526.12465</td>\n",
       "      <td>16788.62948</td>\n",
       "      <td>18334.19751</td>\n",
       "      <td>19477.00928</td>\n",
       "      <td>21888.88903</td>\n",
       "      <td>23424.76683</td>\n",
       "      <td>26997.93657</td>\n",
       "      <td>30687.75473</td>\n",
       "      <td>34435.36744</td>\n",
       "    </tr>\n",
       "    <tr>\n",
       "      <th>1</th>\n",
       "      <td>New Zealand</td>\n",
       "      <td>10556.57566</td>\n",
       "      <td>12247.39532</td>\n",
       "      <td>13175.67800</td>\n",
       "      <td>14463.91893</td>\n",
       "      <td>16046.03728</td>\n",
       "      <td>16233.71770</td>\n",
       "      <td>17632.41040</td>\n",
       "      <td>19007.19129</td>\n",
       "      <td>18363.32494</td>\n",
       "      <td>21050.41377</td>\n",
       "      <td>23189.80135</td>\n",
       "      <td>25185.00911</td>\n",
       "    </tr>\n",
       "  </tbody>\n",
       "</table>\n",
       "</div>"
      ],
      "text/plain": [
       "       country  gdpPercap_1952  gdpPercap_1957  gdpPercap_1962  \\\n",
       "0    Australia     10039.59564     10949.64959     12217.22686   \n",
       "1  New Zealand     10556.57566     12247.39532     13175.67800   \n",
       "\n",
       "   gdpPercap_1967  gdpPercap_1972  gdpPercap_1977  gdpPercap_1982  \\\n",
       "0     14526.12465     16788.62948     18334.19751     19477.00928   \n",
       "1     14463.91893     16046.03728     16233.71770     17632.41040   \n",
       "\n",
       "   gdpPercap_1987  gdpPercap_1992  gdpPercap_1997  gdpPercap_2002  \\\n",
       "0     21888.88903     23424.76683     26997.93657     30687.75473   \n",
       "1     19007.19129     18363.32494     21050.41377     23189.80135   \n",
       "\n",
       "   gdpPercap_2007  \n",
       "0     34435.36744  \n",
       "1     25185.00911  "
      ]
     },
     "execution_count": 30,
     "metadata": {},
     "output_type": "execute_result"
    }
   ],
   "source": [
    "data"
   ]
  },
  {
   "cell_type": "code",
   "execution_count": 31,
   "metadata": {
    "collapsed": false
   },
   "outputs": [
    {
     "name": "stdout",
     "output_type": "stream",
     "text": [
      "<class 'pandas.core.frame.DataFrame'>\n",
      "RangeIndex: 2 entries, 0 to 1\n",
      "Data columns (total 13 columns):\n",
      "country           2 non-null object\n",
      "gdpPercap_1952    2 non-null float64\n",
      "gdpPercap_1957    2 non-null float64\n",
      "gdpPercap_1962    2 non-null float64\n",
      "gdpPercap_1967    2 non-null float64\n",
      "gdpPercap_1972    2 non-null float64\n",
      "gdpPercap_1977    2 non-null float64\n",
      "gdpPercap_1982    2 non-null float64\n",
      "gdpPercap_1987    2 non-null float64\n",
      "gdpPercap_1992    2 non-null float64\n",
      "gdpPercap_1997    2 non-null float64\n",
      "gdpPercap_2002    2 non-null float64\n",
      "gdpPercap_2007    2 non-null float64\n",
      "dtypes: float64(12), object(1)\n",
      "memory usage: 288.0+ bytes\n"
     ]
    }
   ],
   "source": [
    "data.info()"
   ]
  },
  {
   "cell_type": "code",
   "execution_count": 32,
   "metadata": {
    "collapsed": false
   },
   "outputs": [],
   "source": [
    "data = pd.read_csv('data/gapminder_gdp_oceania.csv', index_col='country')"
   ]
  },
  {
   "cell_type": "code",
   "execution_count": 33,
   "metadata": {
    "collapsed": false
   },
   "outputs": [
    {
     "data": {
      "text/html": [
       "<div>\n",
       "<table border=\"1\" class=\"dataframe\">\n",
       "  <thead>\n",
       "    <tr style=\"text-align: right;\">\n",
       "      <th></th>\n",
       "      <th>gdpPercap_1952</th>\n",
       "      <th>gdpPercap_1957</th>\n",
       "      <th>gdpPercap_1962</th>\n",
       "      <th>gdpPercap_1967</th>\n",
       "      <th>gdpPercap_1972</th>\n",
       "      <th>gdpPercap_1977</th>\n",
       "      <th>gdpPercap_1982</th>\n",
       "      <th>gdpPercap_1987</th>\n",
       "      <th>gdpPercap_1992</th>\n",
       "      <th>gdpPercap_1997</th>\n",
       "      <th>gdpPercap_2002</th>\n",
       "      <th>gdpPercap_2007</th>\n",
       "    </tr>\n",
       "    <tr>\n",
       "      <th>country</th>\n",
       "      <th></th>\n",
       "      <th></th>\n",
       "      <th></th>\n",
       "      <th></th>\n",
       "      <th></th>\n",
       "      <th></th>\n",
       "      <th></th>\n",
       "      <th></th>\n",
       "      <th></th>\n",
       "      <th></th>\n",
       "      <th></th>\n",
       "      <th></th>\n",
       "    </tr>\n",
       "  </thead>\n",
       "  <tbody>\n",
       "    <tr>\n",
       "      <th>Australia</th>\n",
       "      <td>10039.59564</td>\n",
       "      <td>10949.64959</td>\n",
       "      <td>12217.22686</td>\n",
       "      <td>14526.12465</td>\n",
       "      <td>16788.62948</td>\n",
       "      <td>18334.19751</td>\n",
       "      <td>19477.00928</td>\n",
       "      <td>21888.88903</td>\n",
       "      <td>23424.76683</td>\n",
       "      <td>26997.93657</td>\n",
       "      <td>30687.75473</td>\n",
       "      <td>34435.36744</td>\n",
       "    </tr>\n",
       "    <tr>\n",
       "      <th>New Zealand</th>\n",
       "      <td>10556.57566</td>\n",
       "      <td>12247.39532</td>\n",
       "      <td>13175.67800</td>\n",
       "      <td>14463.91893</td>\n",
       "      <td>16046.03728</td>\n",
       "      <td>16233.71770</td>\n",
       "      <td>17632.41040</td>\n",
       "      <td>19007.19129</td>\n",
       "      <td>18363.32494</td>\n",
       "      <td>21050.41377</td>\n",
       "      <td>23189.80135</td>\n",
       "      <td>25185.00911</td>\n",
       "    </tr>\n",
       "  </tbody>\n",
       "</table>\n",
       "</div>"
      ],
      "text/plain": [
       "             gdpPercap_1952  gdpPercap_1957  gdpPercap_1962  gdpPercap_1967  \\\n",
       "country                                                                       \n",
       "Australia       10039.59564     10949.64959     12217.22686     14526.12465   \n",
       "New Zealand     10556.57566     12247.39532     13175.67800     14463.91893   \n",
       "\n",
       "             gdpPercap_1972  gdpPercap_1977  gdpPercap_1982  gdpPercap_1987  \\\n",
       "country                                                                       \n",
       "Australia       16788.62948     18334.19751     19477.00928     21888.88903   \n",
       "New Zealand     16046.03728     16233.71770     17632.41040     19007.19129   \n",
       "\n",
       "             gdpPercap_1992  gdpPercap_1997  gdpPercap_2002  gdpPercap_2007  \n",
       "country                                                                      \n",
       "Australia       23424.76683     26997.93657     30687.75473     34435.36744  \n",
       "New Zealand     18363.32494     21050.41377     23189.80135     25185.00911  "
      ]
     },
     "execution_count": 33,
     "metadata": {},
     "output_type": "execute_result"
    }
   ],
   "source": [
    "data"
   ]
  },
  {
   "cell_type": "code",
   "execution_count": 34,
   "metadata": {
    "collapsed": false
   },
   "outputs": [
    {
     "data": {
      "text/plain": [
       "Index(['gdpPercap_1952', 'gdpPercap_1957', 'gdpPercap_1962', 'gdpPercap_1967',\n",
       "       'gdpPercap_1972', 'gdpPercap_1977', 'gdpPercap_1982', 'gdpPercap_1987',\n",
       "       'gdpPercap_1992', 'gdpPercap_1997', 'gdpPercap_2002', 'gdpPercap_2007'],\n",
       "      dtype='object')"
      ]
     },
     "execution_count": 34,
     "metadata": {},
     "output_type": "execute_result"
    }
   ],
   "source": [
    "data.columns"
   ]
  },
  {
   "cell_type": "code",
   "execution_count": 35,
   "metadata": {
    "collapsed": false
   },
   "outputs": [
    {
     "data": {
      "text/html": [
       "<div>\n",
       "<table border=\"1\" class=\"dataframe\">\n",
       "  <thead>\n",
       "    <tr style=\"text-align: right;\">\n",
       "      <th></th>\n",
       "      <th>gdpPercap_1952</th>\n",
       "      <th>gdpPercap_1957</th>\n",
       "      <th>gdpPercap_1962</th>\n",
       "      <th>gdpPercap_1967</th>\n",
       "      <th>gdpPercap_1972</th>\n",
       "      <th>gdpPercap_1977</th>\n",
       "      <th>gdpPercap_1982</th>\n",
       "      <th>gdpPercap_1987</th>\n",
       "      <th>gdpPercap_1992</th>\n",
       "      <th>gdpPercap_1997</th>\n",
       "      <th>gdpPercap_2002</th>\n",
       "      <th>gdpPercap_2007</th>\n",
       "    </tr>\n",
       "  </thead>\n",
       "  <tbody>\n",
       "    <tr>\n",
       "      <th>count</th>\n",
       "      <td>2.000000</td>\n",
       "      <td>2.000000</td>\n",
       "      <td>2.000000</td>\n",
       "      <td>2.000000</td>\n",
       "      <td>2.00000</td>\n",
       "      <td>2.000000</td>\n",
       "      <td>2.000000</td>\n",
       "      <td>2.000000</td>\n",
       "      <td>2.000000</td>\n",
       "      <td>2.000000</td>\n",
       "      <td>2.000000</td>\n",
       "      <td>2.000000</td>\n",
       "    </tr>\n",
       "    <tr>\n",
       "      <th>mean</th>\n",
       "      <td>10298.085650</td>\n",
       "      <td>11598.522455</td>\n",
       "      <td>12696.452430</td>\n",
       "      <td>14495.021790</td>\n",
       "      <td>16417.33338</td>\n",
       "      <td>17283.957605</td>\n",
       "      <td>18554.709840</td>\n",
       "      <td>20448.040160</td>\n",
       "      <td>20894.045885</td>\n",
       "      <td>24024.175170</td>\n",
       "      <td>26938.778040</td>\n",
       "      <td>29810.188275</td>\n",
       "    </tr>\n",
       "    <tr>\n",
       "      <th>std</th>\n",
       "      <td>365.560078</td>\n",
       "      <td>917.644806</td>\n",
       "      <td>677.727301</td>\n",
       "      <td>43.986086</td>\n",
       "      <td>525.09198</td>\n",
       "      <td>1485.263517</td>\n",
       "      <td>1304.328377</td>\n",
       "      <td>2037.668013</td>\n",
       "      <td>3578.979883</td>\n",
       "      <td>4205.533703</td>\n",
       "      <td>5301.853680</td>\n",
       "      <td>6540.991104</td>\n",
       "    </tr>\n",
       "    <tr>\n",
       "      <th>min</th>\n",
       "      <td>10039.595640</td>\n",
       "      <td>10949.649590</td>\n",
       "      <td>12217.226860</td>\n",
       "      <td>14463.918930</td>\n",
       "      <td>16046.03728</td>\n",
       "      <td>16233.717700</td>\n",
       "      <td>17632.410400</td>\n",
       "      <td>19007.191290</td>\n",
       "      <td>18363.324940</td>\n",
       "      <td>21050.413770</td>\n",
       "      <td>23189.801350</td>\n",
       "      <td>25185.009110</td>\n",
       "    </tr>\n",
       "    <tr>\n",
       "      <th>25%</th>\n",
       "      <td>10168.840645</td>\n",
       "      <td>11274.086022</td>\n",
       "      <td>12456.839645</td>\n",
       "      <td>14479.470360</td>\n",
       "      <td>16231.68533</td>\n",
       "      <td>16758.837652</td>\n",
       "      <td>18093.560120</td>\n",
       "      <td>19727.615725</td>\n",
       "      <td>19628.685413</td>\n",
       "      <td>22537.294470</td>\n",
       "      <td>25064.289695</td>\n",
       "      <td>27497.598692</td>\n",
       "    </tr>\n",
       "    <tr>\n",
       "      <th>50%</th>\n",
       "      <td>10298.085650</td>\n",
       "      <td>11598.522455</td>\n",
       "      <td>12696.452430</td>\n",
       "      <td>14495.021790</td>\n",
       "      <td>16417.33338</td>\n",
       "      <td>17283.957605</td>\n",
       "      <td>18554.709840</td>\n",
       "      <td>20448.040160</td>\n",
       "      <td>20894.045885</td>\n",
       "      <td>24024.175170</td>\n",
       "      <td>26938.778040</td>\n",
       "      <td>29810.188275</td>\n",
       "    </tr>\n",
       "    <tr>\n",
       "      <th>75%</th>\n",
       "      <td>10427.330655</td>\n",
       "      <td>11922.958888</td>\n",
       "      <td>12936.065215</td>\n",
       "      <td>14510.573220</td>\n",
       "      <td>16602.98143</td>\n",
       "      <td>17809.077557</td>\n",
       "      <td>19015.859560</td>\n",
       "      <td>21168.464595</td>\n",
       "      <td>22159.406358</td>\n",
       "      <td>25511.055870</td>\n",
       "      <td>28813.266385</td>\n",
       "      <td>32122.777857</td>\n",
       "    </tr>\n",
       "    <tr>\n",
       "      <th>max</th>\n",
       "      <td>10556.575660</td>\n",
       "      <td>12247.395320</td>\n",
       "      <td>13175.678000</td>\n",
       "      <td>14526.124650</td>\n",
       "      <td>16788.62948</td>\n",
       "      <td>18334.197510</td>\n",
       "      <td>19477.009280</td>\n",
       "      <td>21888.889030</td>\n",
       "      <td>23424.766830</td>\n",
       "      <td>26997.936570</td>\n",
       "      <td>30687.754730</td>\n",
       "      <td>34435.367440</td>\n",
       "    </tr>\n",
       "  </tbody>\n",
       "</table>\n",
       "</div>"
      ],
      "text/plain": [
       "       gdpPercap_1952  gdpPercap_1957  gdpPercap_1962  gdpPercap_1967  \\\n",
       "count        2.000000        2.000000        2.000000        2.000000   \n",
       "mean     10298.085650    11598.522455    12696.452430    14495.021790   \n",
       "std        365.560078      917.644806      677.727301       43.986086   \n",
       "min      10039.595640    10949.649590    12217.226860    14463.918930   \n",
       "25%      10168.840645    11274.086022    12456.839645    14479.470360   \n",
       "50%      10298.085650    11598.522455    12696.452430    14495.021790   \n",
       "75%      10427.330655    11922.958888    12936.065215    14510.573220   \n",
       "max      10556.575660    12247.395320    13175.678000    14526.124650   \n",
       "\n",
       "       gdpPercap_1972  gdpPercap_1977  gdpPercap_1982  gdpPercap_1987  \\\n",
       "count         2.00000        2.000000        2.000000        2.000000   \n",
       "mean      16417.33338    17283.957605    18554.709840    20448.040160   \n",
       "std         525.09198     1485.263517     1304.328377     2037.668013   \n",
       "min       16046.03728    16233.717700    17632.410400    19007.191290   \n",
       "25%       16231.68533    16758.837652    18093.560120    19727.615725   \n",
       "50%       16417.33338    17283.957605    18554.709840    20448.040160   \n",
       "75%       16602.98143    17809.077557    19015.859560    21168.464595   \n",
       "max       16788.62948    18334.197510    19477.009280    21888.889030   \n",
       "\n",
       "       gdpPercap_1992  gdpPercap_1997  gdpPercap_2002  gdpPercap_2007  \n",
       "count        2.000000        2.000000        2.000000        2.000000  \n",
       "mean     20894.045885    24024.175170    26938.778040    29810.188275  \n",
       "std       3578.979883     4205.533703     5301.853680     6540.991104  \n",
       "min      18363.324940    21050.413770    23189.801350    25185.009110  \n",
       "25%      19628.685413    22537.294470    25064.289695    27497.598692  \n",
       "50%      20894.045885    24024.175170    26938.778040    29810.188275  \n",
       "75%      22159.406358    25511.055870    28813.266385    32122.777857  \n",
       "max      23424.766830    26997.936570    30687.754730    34435.367440  "
      ]
     },
     "execution_count": 35,
     "metadata": {},
     "output_type": "execute_result"
    }
   ],
   "source": [
    "data.describe()"
   ]
  },
  {
   "cell_type": "code",
   "execution_count": 36,
   "metadata": {
    "collapsed": false
   },
   "outputs": [],
   "source": [
    "data = pd.read_csv('data/gapminder_gdp_europe.csv',index_col='country')"
   ]
  },
  {
   "cell_type": "code",
   "execution_count": 37,
   "metadata": {
    "collapsed": false
   },
   "outputs": [
    {
     "data": {
      "text/html": [
       "<div>\n",
       "<table border=\"1\" class=\"dataframe\">\n",
       "  <thead>\n",
       "    <tr style=\"text-align: right;\">\n",
       "      <th></th>\n",
       "      <th>gdpPercap_1952</th>\n",
       "      <th>gdpPercap_1957</th>\n",
       "      <th>gdpPercap_1962</th>\n",
       "      <th>gdpPercap_1967</th>\n",
       "      <th>gdpPercap_1972</th>\n",
       "      <th>gdpPercap_1977</th>\n",
       "      <th>gdpPercap_1982</th>\n",
       "      <th>gdpPercap_1987</th>\n",
       "      <th>gdpPercap_1992</th>\n",
       "      <th>gdpPercap_1997</th>\n",
       "      <th>gdpPercap_2002</th>\n",
       "      <th>gdpPercap_2007</th>\n",
       "    </tr>\n",
       "    <tr>\n",
       "      <th>country</th>\n",
       "      <th></th>\n",
       "      <th></th>\n",
       "      <th></th>\n",
       "      <th></th>\n",
       "      <th></th>\n",
       "      <th></th>\n",
       "      <th></th>\n",
       "      <th></th>\n",
       "      <th></th>\n",
       "      <th></th>\n",
       "      <th></th>\n",
       "      <th></th>\n",
       "    </tr>\n",
       "  </thead>\n",
       "  <tbody>\n",
       "    <tr>\n",
       "      <th>Albania</th>\n",
       "      <td>1601.056136</td>\n",
       "      <td>1942.284244</td>\n",
       "      <td>2312.888958</td>\n",
       "      <td>2760.196931</td>\n",
       "      <td>3313.422188</td>\n",
       "      <td>3533.003910</td>\n",
       "      <td>3630.880722</td>\n",
       "      <td>3738.932735</td>\n",
       "      <td>2497.437901</td>\n",
       "      <td>3193.054604</td>\n",
       "      <td>4604.211737</td>\n",
       "      <td>5937.029526</td>\n",
       "    </tr>\n",
       "    <tr>\n",
       "      <th>Austria</th>\n",
       "      <td>6137.076492</td>\n",
       "      <td>8842.598030</td>\n",
       "      <td>10750.721110</td>\n",
       "      <td>12834.602400</td>\n",
       "      <td>16661.625600</td>\n",
       "      <td>19749.422300</td>\n",
       "      <td>21597.083620</td>\n",
       "      <td>23687.826070</td>\n",
       "      <td>27042.018680</td>\n",
       "      <td>29095.920660</td>\n",
       "      <td>32417.607690</td>\n",
       "      <td>36126.492700</td>\n",
       "    </tr>\n",
       "    <tr>\n",
       "      <th>Belgium</th>\n",
       "      <td>8343.105127</td>\n",
       "      <td>9714.960623</td>\n",
       "      <td>10991.206760</td>\n",
       "      <td>13149.041190</td>\n",
       "      <td>16672.143560</td>\n",
       "      <td>19117.974480</td>\n",
       "      <td>20979.845890</td>\n",
       "      <td>22525.563080</td>\n",
       "      <td>25575.570690</td>\n",
       "      <td>27561.196630</td>\n",
       "      <td>30485.883750</td>\n",
       "      <td>33692.605080</td>\n",
       "    </tr>\n",
       "    <tr>\n",
       "      <th>Bosnia and Herzegovina</th>\n",
       "      <td>973.533195</td>\n",
       "      <td>1353.989176</td>\n",
       "      <td>1709.683679</td>\n",
       "      <td>2172.352423</td>\n",
       "      <td>2860.169750</td>\n",
       "      <td>3528.481305</td>\n",
       "      <td>4126.613157</td>\n",
       "      <td>4314.114757</td>\n",
       "      <td>2546.781445</td>\n",
       "      <td>4766.355904</td>\n",
       "      <td>6018.975239</td>\n",
       "      <td>7446.298803</td>\n",
       "    </tr>\n",
       "    <tr>\n",
       "      <th>Bulgaria</th>\n",
       "      <td>2444.286648</td>\n",
       "      <td>3008.670727</td>\n",
       "      <td>4254.337839</td>\n",
       "      <td>5577.002800</td>\n",
       "      <td>6597.494398</td>\n",
       "      <td>7612.240438</td>\n",
       "      <td>8224.191647</td>\n",
       "      <td>8239.854824</td>\n",
       "      <td>6302.623438</td>\n",
       "      <td>5970.388760</td>\n",
       "      <td>7696.777725</td>\n",
       "      <td>10680.792820</td>\n",
       "    </tr>\n",
       "    <tr>\n",
       "      <th>Croatia</th>\n",
       "      <td>3119.236520</td>\n",
       "      <td>4338.231617</td>\n",
       "      <td>5477.890018</td>\n",
       "      <td>6960.297861</td>\n",
       "      <td>9164.090127</td>\n",
       "      <td>11305.385170</td>\n",
       "      <td>13221.821840</td>\n",
       "      <td>13822.583940</td>\n",
       "      <td>8447.794873</td>\n",
       "      <td>9875.604515</td>\n",
       "      <td>11628.388950</td>\n",
       "      <td>14619.222720</td>\n",
       "    </tr>\n",
       "    <tr>\n",
       "      <th>Czech Republic</th>\n",
       "      <td>6876.140250</td>\n",
       "      <td>8256.343918</td>\n",
       "      <td>10136.867130</td>\n",
       "      <td>11399.444890</td>\n",
       "      <td>13108.453600</td>\n",
       "      <td>14800.160620</td>\n",
       "      <td>15377.228550</td>\n",
       "      <td>16310.443400</td>\n",
       "      <td>14297.021220</td>\n",
       "      <td>16048.514240</td>\n",
       "      <td>17596.210220</td>\n",
       "      <td>22833.308510</td>\n",
       "    </tr>\n",
       "    <tr>\n",
       "      <th>Denmark</th>\n",
       "      <td>9692.385245</td>\n",
       "      <td>11099.659350</td>\n",
       "      <td>13583.313510</td>\n",
       "      <td>15937.211230</td>\n",
       "      <td>18866.207210</td>\n",
       "      <td>20422.901500</td>\n",
       "      <td>21688.040480</td>\n",
       "      <td>25116.175810</td>\n",
       "      <td>26406.739850</td>\n",
       "      <td>29804.345670</td>\n",
       "      <td>32166.500060</td>\n",
       "      <td>35278.418740</td>\n",
       "    </tr>\n",
       "    <tr>\n",
       "      <th>Finland</th>\n",
       "      <td>6424.519071</td>\n",
       "      <td>7545.415386</td>\n",
       "      <td>9371.842561</td>\n",
       "      <td>10921.636260</td>\n",
       "      <td>14358.875900</td>\n",
       "      <td>15605.422830</td>\n",
       "      <td>18533.157610</td>\n",
       "      <td>21141.012230</td>\n",
       "      <td>20647.164990</td>\n",
       "      <td>23723.950200</td>\n",
       "      <td>28204.590570</td>\n",
       "      <td>33207.084400</td>\n",
       "    </tr>\n",
       "    <tr>\n",
       "      <th>France</th>\n",
       "      <td>7029.809327</td>\n",
       "      <td>8662.834898</td>\n",
       "      <td>10560.485530</td>\n",
       "      <td>12999.917660</td>\n",
       "      <td>16107.191710</td>\n",
       "      <td>18292.635140</td>\n",
       "      <td>20293.897460</td>\n",
       "      <td>22066.442140</td>\n",
       "      <td>24703.796150</td>\n",
       "      <td>25889.784870</td>\n",
       "      <td>28926.032340</td>\n",
       "      <td>30470.016700</td>\n",
       "    </tr>\n",
       "    <tr>\n",
       "      <th>Germany</th>\n",
       "      <td>7144.114393</td>\n",
       "      <td>10187.826650</td>\n",
       "      <td>12902.462910</td>\n",
       "      <td>14745.625610</td>\n",
       "      <td>18016.180270</td>\n",
       "      <td>20512.921230</td>\n",
       "      <td>22031.532740</td>\n",
       "      <td>24639.185660</td>\n",
       "      <td>26505.303170</td>\n",
       "      <td>27788.884160</td>\n",
       "      <td>30035.801980</td>\n",
       "      <td>32170.374420</td>\n",
       "    </tr>\n",
       "    <tr>\n",
       "      <th>Greece</th>\n",
       "      <td>3530.690067</td>\n",
       "      <td>4916.299889</td>\n",
       "      <td>6017.190733</td>\n",
       "      <td>8513.097016</td>\n",
       "      <td>12724.829570</td>\n",
       "      <td>14195.524280</td>\n",
       "      <td>15268.420890</td>\n",
       "      <td>16120.528390</td>\n",
       "      <td>17541.496340</td>\n",
       "      <td>18747.698140</td>\n",
       "      <td>22514.254800</td>\n",
       "      <td>27538.411880</td>\n",
       "    </tr>\n",
       "    <tr>\n",
       "      <th>Hungary</th>\n",
       "      <td>5263.673816</td>\n",
       "      <td>6040.180011</td>\n",
       "      <td>7550.359877</td>\n",
       "      <td>9326.644670</td>\n",
       "      <td>10168.656110</td>\n",
       "      <td>11674.837370</td>\n",
       "      <td>12545.990660</td>\n",
       "      <td>12986.479980</td>\n",
       "      <td>10535.628550</td>\n",
       "      <td>11712.776800</td>\n",
       "      <td>14843.935560</td>\n",
       "      <td>18008.944440</td>\n",
       "    </tr>\n",
       "    <tr>\n",
       "      <th>Iceland</th>\n",
       "      <td>7267.688428</td>\n",
       "      <td>9244.001412</td>\n",
       "      <td>10350.159060</td>\n",
       "      <td>13319.895680</td>\n",
       "      <td>15798.063620</td>\n",
       "      <td>19654.962470</td>\n",
       "      <td>23269.607500</td>\n",
       "      <td>26923.206280</td>\n",
       "      <td>25144.392010</td>\n",
       "      <td>28061.099660</td>\n",
       "      <td>31163.201960</td>\n",
       "      <td>36180.789190</td>\n",
       "    </tr>\n",
       "    <tr>\n",
       "      <th>Ireland</th>\n",
       "      <td>5210.280328</td>\n",
       "      <td>5599.077872</td>\n",
       "      <td>6631.597314</td>\n",
       "      <td>7655.568963</td>\n",
       "      <td>9530.772896</td>\n",
       "      <td>11150.981130</td>\n",
       "      <td>12618.321410</td>\n",
       "      <td>13872.866520</td>\n",
       "      <td>17558.815550</td>\n",
       "      <td>24521.947130</td>\n",
       "      <td>34077.049390</td>\n",
       "      <td>40675.996350</td>\n",
       "    </tr>\n",
       "    <tr>\n",
       "      <th>Italy</th>\n",
       "      <td>4931.404155</td>\n",
       "      <td>6248.656232</td>\n",
       "      <td>8243.582340</td>\n",
       "      <td>10022.401310</td>\n",
       "      <td>12269.273780</td>\n",
       "      <td>14255.984750</td>\n",
       "      <td>16537.483500</td>\n",
       "      <td>19207.234820</td>\n",
       "      <td>22013.644860</td>\n",
       "      <td>24675.024460</td>\n",
       "      <td>27968.098170</td>\n",
       "      <td>28569.719700</td>\n",
       "    </tr>\n",
       "    <tr>\n",
       "      <th>Montenegro</th>\n",
       "      <td>2647.585601</td>\n",
       "      <td>3682.259903</td>\n",
       "      <td>4649.593785</td>\n",
       "      <td>5907.850937</td>\n",
       "      <td>7778.414017</td>\n",
       "      <td>9595.929905</td>\n",
       "      <td>11222.587620</td>\n",
       "      <td>11732.510170</td>\n",
       "      <td>7003.339037</td>\n",
       "      <td>6465.613349</td>\n",
       "      <td>6557.194282</td>\n",
       "      <td>9253.896111</td>\n",
       "    </tr>\n",
       "    <tr>\n",
       "      <th>Netherlands</th>\n",
       "      <td>8941.571858</td>\n",
       "      <td>11276.193440</td>\n",
       "      <td>12790.849560</td>\n",
       "      <td>15363.251360</td>\n",
       "      <td>18794.745670</td>\n",
       "      <td>21209.059200</td>\n",
       "      <td>21399.460460</td>\n",
       "      <td>23651.323610</td>\n",
       "      <td>26790.949610</td>\n",
       "      <td>30246.130630</td>\n",
       "      <td>33724.757780</td>\n",
       "      <td>36797.933320</td>\n",
       "    </tr>\n",
       "    <tr>\n",
       "      <th>Norway</th>\n",
       "      <td>10095.421720</td>\n",
       "      <td>11653.973040</td>\n",
       "      <td>13450.401510</td>\n",
       "      <td>16361.876470</td>\n",
       "      <td>18965.055510</td>\n",
       "      <td>23311.349390</td>\n",
       "      <td>26298.635310</td>\n",
       "      <td>31540.974800</td>\n",
       "      <td>33965.661150</td>\n",
       "      <td>41283.164330</td>\n",
       "      <td>44683.975250</td>\n",
       "      <td>49357.190170</td>\n",
       "    </tr>\n",
       "    <tr>\n",
       "      <th>Poland</th>\n",
       "      <td>4029.329699</td>\n",
       "      <td>4734.253019</td>\n",
       "      <td>5338.752143</td>\n",
       "      <td>6557.152776</td>\n",
       "      <td>8006.506993</td>\n",
       "      <td>9508.141454</td>\n",
       "      <td>8451.531004</td>\n",
       "      <td>9082.351172</td>\n",
       "      <td>7738.881247</td>\n",
       "      <td>10159.583680</td>\n",
       "      <td>12002.239080</td>\n",
       "      <td>15389.924680</td>\n",
       "    </tr>\n",
       "    <tr>\n",
       "      <th>Portugal</th>\n",
       "      <td>3068.319867</td>\n",
       "      <td>3774.571743</td>\n",
       "      <td>4727.954889</td>\n",
       "      <td>6361.517993</td>\n",
       "      <td>9022.247417</td>\n",
       "      <td>10172.485720</td>\n",
       "      <td>11753.842910</td>\n",
       "      <td>13039.308760</td>\n",
       "      <td>16207.266630</td>\n",
       "      <td>17641.031560</td>\n",
       "      <td>19970.907870</td>\n",
       "      <td>20509.647770</td>\n",
       "    </tr>\n",
       "    <tr>\n",
       "      <th>Romania</th>\n",
       "      <td>3144.613186</td>\n",
       "      <td>3943.370225</td>\n",
       "      <td>4734.997586</td>\n",
       "      <td>6470.866545</td>\n",
       "      <td>8011.414402</td>\n",
       "      <td>9356.397240</td>\n",
       "      <td>9605.314053</td>\n",
       "      <td>9696.273295</td>\n",
       "      <td>6598.409903</td>\n",
       "      <td>7346.547557</td>\n",
       "      <td>7885.360081</td>\n",
       "      <td>10808.475610</td>\n",
       "    </tr>\n",
       "    <tr>\n",
       "      <th>Serbia</th>\n",
       "      <td>3581.459448</td>\n",
       "      <td>4981.090891</td>\n",
       "      <td>6289.629157</td>\n",
       "      <td>7991.707066</td>\n",
       "      <td>10522.067490</td>\n",
       "      <td>12980.669560</td>\n",
       "      <td>15181.092700</td>\n",
       "      <td>15870.878510</td>\n",
       "      <td>9325.068238</td>\n",
       "      <td>7914.320304</td>\n",
       "      <td>7236.075251</td>\n",
       "      <td>9786.534714</td>\n",
       "    </tr>\n",
       "    <tr>\n",
       "      <th>Slovak Republic</th>\n",
       "      <td>5074.659104</td>\n",
       "      <td>6093.262980</td>\n",
       "      <td>7481.107598</td>\n",
       "      <td>8412.902397</td>\n",
       "      <td>9674.167626</td>\n",
       "      <td>10922.664040</td>\n",
       "      <td>11348.545850</td>\n",
       "      <td>12037.267580</td>\n",
       "      <td>9498.467723</td>\n",
       "      <td>12126.230650</td>\n",
       "      <td>13638.778370</td>\n",
       "      <td>18678.314350</td>\n",
       "    </tr>\n",
       "    <tr>\n",
       "      <th>Slovenia</th>\n",
       "      <td>4215.041741</td>\n",
       "      <td>5862.276629</td>\n",
       "      <td>7402.303395</td>\n",
       "      <td>9405.489397</td>\n",
       "      <td>12383.486200</td>\n",
       "      <td>15277.030170</td>\n",
       "      <td>17866.721750</td>\n",
       "      <td>18678.534920</td>\n",
       "      <td>14214.716810</td>\n",
       "      <td>17161.107350</td>\n",
       "      <td>20660.019360</td>\n",
       "      <td>25768.257590</td>\n",
       "    </tr>\n",
       "    <tr>\n",
       "      <th>Spain</th>\n",
       "      <td>3834.034742</td>\n",
       "      <td>4564.802410</td>\n",
       "      <td>5693.843879</td>\n",
       "      <td>7993.512294</td>\n",
       "      <td>10638.751310</td>\n",
       "      <td>13236.921170</td>\n",
       "      <td>13926.169970</td>\n",
       "      <td>15764.983130</td>\n",
       "      <td>18603.064520</td>\n",
       "      <td>20445.298960</td>\n",
       "      <td>24835.471660</td>\n",
       "      <td>28821.063700</td>\n",
       "    </tr>\n",
       "    <tr>\n",
       "      <th>Sweden</th>\n",
       "      <td>8527.844662</td>\n",
       "      <td>9911.878226</td>\n",
       "      <td>12329.441920</td>\n",
       "      <td>15258.296970</td>\n",
       "      <td>17832.024640</td>\n",
       "      <td>18855.725210</td>\n",
       "      <td>20667.381250</td>\n",
       "      <td>23586.929270</td>\n",
       "      <td>23880.016830</td>\n",
       "      <td>25266.594990</td>\n",
       "      <td>29341.630930</td>\n",
       "      <td>33859.748350</td>\n",
       "    </tr>\n",
       "    <tr>\n",
       "      <th>Switzerland</th>\n",
       "      <td>14734.232750</td>\n",
       "      <td>17909.489730</td>\n",
       "      <td>20431.092700</td>\n",
       "      <td>22966.144320</td>\n",
       "      <td>27195.113040</td>\n",
       "      <td>26982.290520</td>\n",
       "      <td>28397.715120</td>\n",
       "      <td>30281.704590</td>\n",
       "      <td>31871.530300</td>\n",
       "      <td>32135.323010</td>\n",
       "      <td>34480.957710</td>\n",
       "      <td>37506.419070</td>\n",
       "    </tr>\n",
       "    <tr>\n",
       "      <th>Turkey</th>\n",
       "      <td>1969.100980</td>\n",
       "      <td>2218.754257</td>\n",
       "      <td>2322.869908</td>\n",
       "      <td>2826.356387</td>\n",
       "      <td>3450.696380</td>\n",
       "      <td>4269.122326</td>\n",
       "      <td>4241.356344</td>\n",
       "      <td>5089.043686</td>\n",
       "      <td>5678.348271</td>\n",
       "      <td>6601.429915</td>\n",
       "      <td>6508.085718</td>\n",
       "      <td>8458.276384</td>\n",
       "    </tr>\n",
       "    <tr>\n",
       "      <th>United Kingdom</th>\n",
       "      <td>9979.508487</td>\n",
       "      <td>11283.177950</td>\n",
       "      <td>12477.177070</td>\n",
       "      <td>14142.850890</td>\n",
       "      <td>15895.116410</td>\n",
       "      <td>17428.748460</td>\n",
       "      <td>18232.424520</td>\n",
       "      <td>21664.787670</td>\n",
       "      <td>22705.092540</td>\n",
       "      <td>26074.531360</td>\n",
       "      <td>29478.999190</td>\n",
       "      <td>33203.261280</td>\n",
       "    </tr>\n",
       "  </tbody>\n",
       "</table>\n",
       "</div>"
      ],
      "text/plain": [
       "                        gdpPercap_1952  gdpPercap_1957  gdpPercap_1962  \\\n",
       "country                                                                  \n",
       "Albania                    1601.056136     1942.284244     2312.888958   \n",
       "Austria                    6137.076492     8842.598030    10750.721110   \n",
       "Belgium                    8343.105127     9714.960623    10991.206760   \n",
       "Bosnia and Herzegovina      973.533195     1353.989176     1709.683679   \n",
       "Bulgaria                   2444.286648     3008.670727     4254.337839   \n",
       "Croatia                    3119.236520     4338.231617     5477.890018   \n",
       "Czech Republic             6876.140250     8256.343918    10136.867130   \n",
       "Denmark                    9692.385245    11099.659350    13583.313510   \n",
       "Finland                    6424.519071     7545.415386     9371.842561   \n",
       "France                     7029.809327     8662.834898    10560.485530   \n",
       "Germany                    7144.114393    10187.826650    12902.462910   \n",
       "Greece                     3530.690067     4916.299889     6017.190733   \n",
       "Hungary                    5263.673816     6040.180011     7550.359877   \n",
       "Iceland                    7267.688428     9244.001412    10350.159060   \n",
       "Ireland                    5210.280328     5599.077872     6631.597314   \n",
       "Italy                      4931.404155     6248.656232     8243.582340   \n",
       "Montenegro                 2647.585601     3682.259903     4649.593785   \n",
       "Netherlands                8941.571858    11276.193440    12790.849560   \n",
       "Norway                    10095.421720    11653.973040    13450.401510   \n",
       "Poland                     4029.329699     4734.253019     5338.752143   \n",
       "Portugal                   3068.319867     3774.571743     4727.954889   \n",
       "Romania                    3144.613186     3943.370225     4734.997586   \n",
       "Serbia                     3581.459448     4981.090891     6289.629157   \n",
       "Slovak Republic            5074.659104     6093.262980     7481.107598   \n",
       "Slovenia                   4215.041741     5862.276629     7402.303395   \n",
       "Spain                      3834.034742     4564.802410     5693.843879   \n",
       "Sweden                     8527.844662     9911.878226    12329.441920   \n",
       "Switzerland               14734.232750    17909.489730    20431.092700   \n",
       "Turkey                     1969.100980     2218.754257     2322.869908   \n",
       "United Kingdom             9979.508487    11283.177950    12477.177070   \n",
       "\n",
       "                        gdpPercap_1967  gdpPercap_1972  gdpPercap_1977  \\\n",
       "country                                                                  \n",
       "Albania                    2760.196931     3313.422188     3533.003910   \n",
       "Austria                   12834.602400    16661.625600    19749.422300   \n",
       "Belgium                   13149.041190    16672.143560    19117.974480   \n",
       "Bosnia and Herzegovina     2172.352423     2860.169750     3528.481305   \n",
       "Bulgaria                   5577.002800     6597.494398     7612.240438   \n",
       "Croatia                    6960.297861     9164.090127    11305.385170   \n",
       "Czech Republic            11399.444890    13108.453600    14800.160620   \n",
       "Denmark                   15937.211230    18866.207210    20422.901500   \n",
       "Finland                   10921.636260    14358.875900    15605.422830   \n",
       "France                    12999.917660    16107.191710    18292.635140   \n",
       "Germany                   14745.625610    18016.180270    20512.921230   \n",
       "Greece                     8513.097016    12724.829570    14195.524280   \n",
       "Hungary                    9326.644670    10168.656110    11674.837370   \n",
       "Iceland                   13319.895680    15798.063620    19654.962470   \n",
       "Ireland                    7655.568963     9530.772896    11150.981130   \n",
       "Italy                     10022.401310    12269.273780    14255.984750   \n",
       "Montenegro                 5907.850937     7778.414017     9595.929905   \n",
       "Netherlands               15363.251360    18794.745670    21209.059200   \n",
       "Norway                    16361.876470    18965.055510    23311.349390   \n",
       "Poland                     6557.152776     8006.506993     9508.141454   \n",
       "Portugal                   6361.517993     9022.247417    10172.485720   \n",
       "Romania                    6470.866545     8011.414402     9356.397240   \n",
       "Serbia                     7991.707066    10522.067490    12980.669560   \n",
       "Slovak Republic            8412.902397     9674.167626    10922.664040   \n",
       "Slovenia                   9405.489397    12383.486200    15277.030170   \n",
       "Spain                      7993.512294    10638.751310    13236.921170   \n",
       "Sweden                    15258.296970    17832.024640    18855.725210   \n",
       "Switzerland               22966.144320    27195.113040    26982.290520   \n",
       "Turkey                     2826.356387     3450.696380     4269.122326   \n",
       "United Kingdom            14142.850890    15895.116410    17428.748460   \n",
       "\n",
       "                        gdpPercap_1982  gdpPercap_1987  gdpPercap_1992  \\\n",
       "country                                                                  \n",
       "Albania                    3630.880722     3738.932735     2497.437901   \n",
       "Austria                   21597.083620    23687.826070    27042.018680   \n",
       "Belgium                   20979.845890    22525.563080    25575.570690   \n",
       "Bosnia and Herzegovina     4126.613157     4314.114757     2546.781445   \n",
       "Bulgaria                   8224.191647     8239.854824     6302.623438   \n",
       "Croatia                   13221.821840    13822.583940     8447.794873   \n",
       "Czech Republic            15377.228550    16310.443400    14297.021220   \n",
       "Denmark                   21688.040480    25116.175810    26406.739850   \n",
       "Finland                   18533.157610    21141.012230    20647.164990   \n",
       "France                    20293.897460    22066.442140    24703.796150   \n",
       "Germany                   22031.532740    24639.185660    26505.303170   \n",
       "Greece                    15268.420890    16120.528390    17541.496340   \n",
       "Hungary                   12545.990660    12986.479980    10535.628550   \n",
       "Iceland                   23269.607500    26923.206280    25144.392010   \n",
       "Ireland                   12618.321410    13872.866520    17558.815550   \n",
       "Italy                     16537.483500    19207.234820    22013.644860   \n",
       "Montenegro                11222.587620    11732.510170     7003.339037   \n",
       "Netherlands               21399.460460    23651.323610    26790.949610   \n",
       "Norway                    26298.635310    31540.974800    33965.661150   \n",
       "Poland                     8451.531004     9082.351172     7738.881247   \n",
       "Portugal                  11753.842910    13039.308760    16207.266630   \n",
       "Romania                    9605.314053     9696.273295     6598.409903   \n",
       "Serbia                    15181.092700    15870.878510     9325.068238   \n",
       "Slovak Republic           11348.545850    12037.267580     9498.467723   \n",
       "Slovenia                  17866.721750    18678.534920    14214.716810   \n",
       "Spain                     13926.169970    15764.983130    18603.064520   \n",
       "Sweden                    20667.381250    23586.929270    23880.016830   \n",
       "Switzerland               28397.715120    30281.704590    31871.530300   \n",
       "Turkey                     4241.356344     5089.043686     5678.348271   \n",
       "United Kingdom            18232.424520    21664.787670    22705.092540   \n",
       "\n",
       "                        gdpPercap_1997  gdpPercap_2002  gdpPercap_2007  \n",
       "country                                                                 \n",
       "Albania                    3193.054604     4604.211737     5937.029526  \n",
       "Austria                   29095.920660    32417.607690    36126.492700  \n",
       "Belgium                   27561.196630    30485.883750    33692.605080  \n",
       "Bosnia and Herzegovina     4766.355904     6018.975239     7446.298803  \n",
       "Bulgaria                   5970.388760     7696.777725    10680.792820  \n",
       "Croatia                    9875.604515    11628.388950    14619.222720  \n",
       "Czech Republic            16048.514240    17596.210220    22833.308510  \n",
       "Denmark                   29804.345670    32166.500060    35278.418740  \n",
       "Finland                   23723.950200    28204.590570    33207.084400  \n",
       "France                    25889.784870    28926.032340    30470.016700  \n",
       "Germany                   27788.884160    30035.801980    32170.374420  \n",
       "Greece                    18747.698140    22514.254800    27538.411880  \n",
       "Hungary                   11712.776800    14843.935560    18008.944440  \n",
       "Iceland                   28061.099660    31163.201960    36180.789190  \n",
       "Ireland                   24521.947130    34077.049390    40675.996350  \n",
       "Italy                     24675.024460    27968.098170    28569.719700  \n",
       "Montenegro                 6465.613349     6557.194282     9253.896111  \n",
       "Netherlands               30246.130630    33724.757780    36797.933320  \n",
       "Norway                    41283.164330    44683.975250    49357.190170  \n",
       "Poland                    10159.583680    12002.239080    15389.924680  \n",
       "Portugal                  17641.031560    19970.907870    20509.647770  \n",
       "Romania                    7346.547557     7885.360081    10808.475610  \n",
       "Serbia                     7914.320304     7236.075251     9786.534714  \n",
       "Slovak Republic           12126.230650    13638.778370    18678.314350  \n",
       "Slovenia                  17161.107350    20660.019360    25768.257590  \n",
       "Spain                     20445.298960    24835.471660    28821.063700  \n",
       "Sweden                    25266.594990    29341.630930    33859.748350  \n",
       "Switzerland               32135.323010    34480.957710    37506.419070  \n",
       "Turkey                     6601.429915     6508.085718     8458.276384  \n",
       "United Kingdom            26074.531360    29478.999190    33203.261280  "
      ]
     },
     "execution_count": 37,
     "metadata": {},
     "output_type": "execute_result"
    }
   ],
   "source": [
    "data"
   ]
  },
  {
   "cell_type": "code",
   "execution_count": 38,
   "metadata": {
    "collapsed": false
   },
   "outputs": [
    {
     "data": {
      "text/html": [
       "<div>\n",
       "<table border=\"1\" class=\"dataframe\">\n",
       "  <thead>\n",
       "    <tr style=\"text-align: right;\">\n",
       "      <th></th>\n",
       "      <th>gdpPercap_1967</th>\n",
       "      <th>gdpPercap_1972</th>\n",
       "      <th>gdpPercap_1977</th>\n",
       "      <th>gdpPercap_1982</th>\n",
       "      <th>gdpPercap_1987</th>\n",
       "      <th>gdpPercap_1992</th>\n",
       "      <th>gdpPercap_1997</th>\n",
       "      <th>gdpPercap_2002</th>\n",
       "      <th>gdpPercap_2007</th>\n",
       "    </tr>\n",
       "    <tr>\n",
       "      <th>country</th>\n",
       "      <th></th>\n",
       "      <th></th>\n",
       "      <th></th>\n",
       "      <th></th>\n",
       "      <th></th>\n",
       "      <th></th>\n",
       "      <th></th>\n",
       "      <th></th>\n",
       "      <th></th>\n",
       "    </tr>\n",
       "  </thead>\n",
       "  <tbody>\n",
       "    <tr>\n",
       "      <th>Italy</th>\n",
       "      <td>10022.401310</td>\n",
       "      <td>12269.273780</td>\n",
       "      <td>14255.984750</td>\n",
       "      <td>16537.483500</td>\n",
       "      <td>19207.234820</td>\n",
       "      <td>22013.644860</td>\n",
       "      <td>24675.024460</td>\n",
       "      <td>27968.098170</td>\n",
       "      <td>28569.719700</td>\n",
       "    </tr>\n",
       "    <tr>\n",
       "      <th>Montenegro</th>\n",
       "      <td>5907.850937</td>\n",
       "      <td>7778.414017</td>\n",
       "      <td>9595.929905</td>\n",
       "      <td>11222.587620</td>\n",
       "      <td>11732.510170</td>\n",
       "      <td>7003.339037</td>\n",
       "      <td>6465.613349</td>\n",
       "      <td>6557.194282</td>\n",
       "      <td>9253.896111</td>\n",
       "    </tr>\n",
       "    <tr>\n",
       "      <th>Netherlands</th>\n",
       "      <td>15363.251360</td>\n",
       "      <td>18794.745670</td>\n",
       "      <td>21209.059200</td>\n",
       "      <td>21399.460460</td>\n",
       "      <td>23651.323610</td>\n",
       "      <td>26790.949610</td>\n",
       "      <td>30246.130630</td>\n",
       "      <td>33724.757780</td>\n",
       "      <td>36797.933320</td>\n",
       "    </tr>\n",
       "    <tr>\n",
       "      <th>Norway</th>\n",
       "      <td>16361.876470</td>\n",
       "      <td>18965.055510</td>\n",
       "      <td>23311.349390</td>\n",
       "      <td>26298.635310</td>\n",
       "      <td>31540.974800</td>\n",
       "      <td>33965.661150</td>\n",
       "      <td>41283.164330</td>\n",
       "      <td>44683.975250</td>\n",
       "      <td>49357.190170</td>\n",
       "    </tr>\n",
       "    <tr>\n",
       "      <th>Poland</th>\n",
       "      <td>6557.152776</td>\n",
       "      <td>8006.506993</td>\n",
       "      <td>9508.141454</td>\n",
       "      <td>8451.531004</td>\n",
       "      <td>9082.351172</td>\n",
       "      <td>7738.881247</td>\n",
       "      <td>10159.583680</td>\n",
       "      <td>12002.239080</td>\n",
       "      <td>15389.924680</td>\n",
       "    </tr>\n",
       "  </tbody>\n",
       "</table>\n",
       "</div>"
      ],
      "text/plain": [
       "             gdpPercap_1967  gdpPercap_1972  gdpPercap_1977  gdpPercap_1982  \\\n",
       "country                                                                       \n",
       "Italy          10022.401310    12269.273780    14255.984750    16537.483500   \n",
       "Montenegro      5907.850937     7778.414017     9595.929905    11222.587620   \n",
       "Netherlands    15363.251360    18794.745670    21209.059200    21399.460460   \n",
       "Norway         16361.876470    18965.055510    23311.349390    26298.635310   \n",
       "Poland          6557.152776     8006.506993     9508.141454     8451.531004   \n",
       "\n",
       "             gdpPercap_1987  gdpPercap_1992  gdpPercap_1997  gdpPercap_2002  \\\n",
       "country                                                                       \n",
       "Italy          19207.234820    22013.644860    24675.024460    27968.098170   \n",
       "Montenegro     11732.510170     7003.339037     6465.613349     6557.194282   \n",
       "Netherlands    23651.323610    26790.949610    30246.130630    33724.757780   \n",
       "Norway         31540.974800    33965.661150    41283.164330    44683.975250   \n",
       "Poland          9082.351172     7738.881247    10159.583680    12002.239080   \n",
       "\n",
       "             gdpPercap_2007  \n",
       "country                      \n",
       "Italy          28569.719700  \n",
       "Montenegro      9253.896111  \n",
       "Netherlands    36797.933320  \n",
       "Norway         49357.190170  \n",
       "Poland         15389.924680  "
      ]
     },
     "execution_count": 38,
     "metadata": {},
     "output_type": "execute_result"
    }
   ],
   "source": [
    "data.ix['Italy':'Poland','gdpPercap_1967':]"
   ]
  },
  {
   "cell_type": "markdown",
   "metadata": {
    "collapsed": false
   },
   "source": [
    "### MatplotLib Plots"
   ]
  },
  {
   "cell_type": "code",
   "execution_count": 39,
   "metadata": {
    "collapsed": false
   },
   "outputs": [],
   "source": [
    "#line below allows for inline display of plots\n",
    "%matplotlib inline\n",
    "import matplotlib.pyplot as plt"
   ]
  },
  {
   "cell_type": "code",
   "execution_count": 40,
   "metadata": {
    "collapsed": false
   },
   "outputs": [
    {
     "data": {
      "text/plain": [
       "<matplotlib.text.Text at 0x115a30c18>"
      ]
     },
     "execution_count": 40,
     "metadata": {},
     "output_type": "execute_result"
    },
    {
     "data": {
      "image/png": "[encoded data removed]",
      "text/plain": [
       "<matplotlib.figure.Figure at 0x11574e978>"
      ]
     },
     "metadata": {},
     "output_type": "display_data"
    }
   ],
   "source": [
    "x=[1,2,3,4,5]\n",
    "y=[2,4,6,8,10]\n",
    "plt.plot(x,y)\n",
    "plt.xlabel('Numbers')\n",
    "plt.ylabel('Doubles')"
   ]
  },
  {
   "cell_type": "code",
   "execution_count": null,
   "metadata": {
    "collapsed": false
   },
   "outputs": [],
   "source": []
  },
  {
   "cell_type": "code",
   "execution_count": 41,
   "metadata": {
    "collapsed": true
   },
   "outputs": [],
   "source": [
    "import pandas as pd"
   ]
  },
  {
   "cell_type": "code",
   "execution_count": 42,
   "metadata": {
    "collapsed": true
   },
   "outputs": [],
   "source": [
    "data = pd.read_csv('data/gapminder_gdp_oceania.csv',index_col=\"country\")"
   ]
  },
  {
   "cell_type": "code",
   "execution_count": 43,
   "metadata": {
    "collapsed": false
   },
   "outputs": [
    {
     "data": {
      "text/plain": [
       "(array([  0.,   2.,   4.,   6.,   8.,  10.,  12.]),\n",
       " <a list of 7 Text xticklabel objects>)"
      ]
     },
     "execution_count": 43,
     "metadata": {},
     "output_type": "execute_result"
    },
    {
     "data": {
      "image/png": "[encoded data removed]",
      "text/plain": [
       "<matplotlib.figure.Figure at 0x11574e7b8>"
      ]
     },
     "metadata": {},
     "output_type": "display_data"
    }
   ],
   "source": [
    "data.ix['New Zealand'].plot()\n",
    "plt.xticks(rotation=90)"
   ]
  },
  {
   "cell_type": "code",
   "execution_count": 44,
   "metadata": {
    "collapsed": false
   },
   "outputs": [
    {
     "data": {
      "text/html": [
       "<div>\n",
       "<table border=\"1\" class=\"dataframe\">\n",
       "  <thead>\n",
       "    <tr style=\"text-align: right;\">\n",
       "      <th></th>\n",
       "      <th>gdpPercap_1952</th>\n",
       "      <th>gdpPercap_1957</th>\n",
       "      <th>gdpPercap_1962</th>\n",
       "      <th>gdpPercap_1967</th>\n",
       "      <th>gdpPercap_1972</th>\n",
       "      <th>gdpPercap_1977</th>\n",
       "      <th>gdpPercap_1982</th>\n",
       "      <th>gdpPercap_1987</th>\n",
       "      <th>gdpPercap_1992</th>\n",
       "      <th>gdpPercap_1997</th>\n",
       "      <th>gdpPercap_2002</th>\n",
       "      <th>gdpPercap_2007</th>\n",
       "    </tr>\n",
       "    <tr>\n",
       "      <th>country</th>\n",
       "      <th></th>\n",
       "      <th></th>\n",
       "      <th></th>\n",
       "      <th></th>\n",
       "      <th></th>\n",
       "      <th></th>\n",
       "      <th></th>\n",
       "      <th></th>\n",
       "      <th></th>\n",
       "      <th></th>\n",
       "      <th></th>\n",
       "      <th></th>\n",
       "    </tr>\n",
       "  </thead>\n",
       "  <tbody>\n",
       "    <tr>\n",
       "      <th>Australia</th>\n",
       "      <td>10039.59564</td>\n",
       "      <td>10949.64959</td>\n",
       "      <td>12217.22686</td>\n",
       "      <td>14526.12465</td>\n",
       "      <td>16788.62948</td>\n",
       "      <td>18334.19751</td>\n",
       "      <td>19477.00928</td>\n",
       "      <td>21888.88903</td>\n",
       "      <td>23424.76683</td>\n",
       "      <td>26997.93657</td>\n",
       "      <td>30687.75473</td>\n",
       "      <td>34435.36744</td>\n",
       "    </tr>\n",
       "    <tr>\n",
       "      <th>New Zealand</th>\n",
       "      <td>10556.57566</td>\n",
       "      <td>12247.39532</td>\n",
       "      <td>13175.67800</td>\n",
       "      <td>14463.91893</td>\n",
       "      <td>16046.03728</td>\n",
       "      <td>16233.71770</td>\n",
       "      <td>17632.41040</td>\n",
       "      <td>19007.19129</td>\n",
       "      <td>18363.32494</td>\n",
       "      <td>21050.41377</td>\n",
       "      <td>23189.80135</td>\n",
       "      <td>25185.00911</td>\n",
       "    </tr>\n",
       "  </tbody>\n",
       "</table>\n",
       "</div>"
      ],
      "text/plain": [
       "             gdpPercap_1952  gdpPercap_1957  gdpPercap_1962  gdpPercap_1967  \\\n",
       "country                                                                       \n",
       "Australia       10039.59564     10949.64959     12217.22686     14526.12465   \n",
       "New Zealand     10556.57566     12247.39532     13175.67800     14463.91893   \n",
       "\n",
       "             gdpPercap_1972  gdpPercap_1977  gdpPercap_1982  gdpPercap_1987  \\\n",
       "country                                                                       \n",
       "Australia       16788.62948     18334.19751     19477.00928     21888.88903   \n",
       "New Zealand     16046.03728     16233.71770     17632.41040     19007.19129   \n",
       "\n",
       "             gdpPercap_1992  gdpPercap_1997  gdpPercap_2002  gdpPercap_2007  \n",
       "country                                                                      \n",
       "Australia       23424.76683     26997.93657     30687.75473     34435.36744  \n",
       "New Zealand     18363.32494     21050.41377     23189.80135     25185.00911  "
      ]
     },
     "execution_count": 44,
     "metadata": {},
     "output_type": "execute_result"
    }
   ],
   "source": [
    "data"
   ]
  },
  {
   "cell_type": "code",
   "execution_count": 45,
   "metadata": {
    "collapsed": false
   },
   "outputs": [
    {
     "data": {
      "text/plain": [
       "(array([  0.,   2.,   4.,   6.,   8.,  10.,  12.]),\n",
       " <a list of 7 Text xticklabel objects>)"
      ]
     },
     "execution_count": 45,
     "metadata": {},
     "output_type": "execute_result"
    },
    {
     "data": {
      "image/png": "[encoded data removed]",
      "text/plain": [
       "<matplotlib.figure.Figure at 0x115b16cf8>"
      ]
     },
     "metadata": {},
     "output_type": "display_data"
    }
   ],
   "source": [
    "data.T.plot()\n",
    "plt.ylabel('GDP per capita')\n",
    "plt.xticks(rotation=90)"
   ]
  },
  {
   "cell_type": "code",
   "execution_count": 46,
   "metadata": {
    "collapsed": false
   },
   "outputs": [
    {
     "data": {
      "text/plain": [
       "Index(['gdpPercap_1952', 'gdpPercap_1957', 'gdpPercap_1962', 'gdpPercap_1967',\n",
       "       'gdpPercap_1972', 'gdpPercap_1977', 'gdpPercap_1982', 'gdpPercap_1987',\n",
       "       'gdpPercap_1992', 'gdpPercap_1997', 'gdpPercap_2002', 'gdpPercap_2007'],\n",
       "      dtype='object')"
      ]
     },
     "execution_count": 46,
     "metadata": {},
     "output_type": "execute_result"
    }
   ],
   "source": [
    "data.columns"
   ]
  },
  {
   "cell_type": "code",
   "execution_count": 47,
   "metadata": {
    "collapsed": false
   },
   "outputs": [
    {
     "data": {
      "text/plain": [
       "<matplotlib.text.Text at 0x115c17dd8>"
      ]
     },
     "execution_count": 47,
     "metadata": {},
     "output_type": "execute_result"
    },
    {
     "data": {
      "image/png": "[encoded data removed]",
      "text/plain": [
       "<matplotlib.figure.Figure at 0x115cbea58>"
      ]
     },
     "metadata": {},
     "output_type": "display_data"
    }
   ],
   "source": [
    "plt.style.use('ggplot')\n",
    "data.T.plot(kind='bar')\n",
    "plt.xticks(rotation=90)\n",
    "plt.ylabel('GDP per capita')"
   ]
  },
  {
   "cell_type": "markdown",
   "metadata": {},
   "source": [
    "Slice the column name and retrieve the years for x axis "
   ]
  },
  {
   "cell_type": "code",
   "execution_count": 48,
   "metadata": {
    "collapsed": false
   },
   "outputs": [
    {
     "data": {
      "text/plain": [
       "[<matplotlib.lines.Line2D at 0x115fd2c50>]"
      ]
     },
     "execution_count": 48,
     "metadata": {},
     "output_type": "execute_result"
    },
    {
     "data": {
      "image/png": "[encoded data removed]",
      "text/plain": [
       "<matplotlib.figure.Figure at 0x115e48588>"
      ]
     },
     "metadata": {},
     "output_type": "display_data"
    }
   ],
   "source": [
    "years=[]\n",
    "for col in data.columns:\n",
    "    year=col[-4:]\n",
    "    years.append(year)\n",
    "gdp_australia = data.ix['Australia'].tolist()\n",
    "plt.plot(years,gdp_australia,'b-')"
   ]
  },
  {
   "cell_type": "markdown",
   "metadata": {},
   "source": [
    "### Lists"
   ]
  },
  {
   "cell_type": "code",
   "execution_count": 49,
   "metadata": {
    "collapsed": false
   },
   "outputs": [
    {
     "name": "stdout",
     "output_type": "stream",
     "text": [
      "[0.25, 0.34, 0.98]\n"
     ]
    }
   ],
   "source": [
    "pressures=[0.25,0.34,0.98]\n",
    "print(pressures)"
   ]
  },
  {
   "cell_type": "code",
   "execution_count": 50,
   "metadata": {
    "collapsed": false
   },
   "outputs": [
    {
     "name": "stdout",
     "output_type": "stream",
     "text": [
      "3\n"
     ]
    }
   ],
   "source": [
    "print (len(pressures))"
   ]
  },
  {
   "cell_type": "code",
   "execution_count": 51,
   "metadata": {
    "collapsed": true
   },
   "outputs": [],
   "source": [
    "pressures.append(1.234)"
   ]
  },
  {
   "cell_type": "code",
   "execution_count": 52,
   "metadata": {
    "collapsed": false
   },
   "outputs": [
    {
     "data": {
      "text/plain": [
       "[0.25, 0.34, 0.98, 1.234]"
      ]
     },
     "execution_count": 52,
     "metadata": {},
     "output_type": "execute_result"
    }
   ],
   "source": [
    "pressures\n"
   ]
  },
  {
   "cell_type": "code",
   "execution_count": 53,
   "metadata": {
    "collapsed": true
   },
   "outputs": [],
   "source": [
    "del pressures[1]"
   ]
  },
  {
   "cell_type": "code",
   "execution_count": 54,
   "metadata": {
    "collapsed": false
   },
   "outputs": [
    {
     "data": {
      "text/plain": [
       "[0.25, 0.98, 1.234]"
      ]
     },
     "execution_count": 54,
     "metadata": {},
     "output_type": "execute_result"
    }
   ],
   "source": [
    "pressures"
   ]
  },
  {
   "cell_type": "code",
   "execution_count": 55,
   "metadata": {
    "collapsed": true
   },
   "outputs": [],
   "source": [
    "pressures.sort()"
   ]
  },
  {
   "cell_type": "code",
   "execution_count": 56,
   "metadata": {
    "collapsed": false
   },
   "outputs": [
    {
     "data": {
      "text/plain": [
       "[0.25, 0.98, 1.234]"
      ]
     },
     "execution_count": 56,
     "metadata": {},
     "output_type": "execute_result"
    }
   ],
   "source": [
    "pressures"
   ]
  },
  {
   "cell_type": "code",
   "execution_count": 57,
   "metadata": {
    "collapsed": true
   },
   "outputs": [],
   "source": [
    "pressures.append(0.01)"
   ]
  },
  {
   "cell_type": "code",
   "execution_count": 58,
   "metadata": {
    "collapsed": true
   },
   "outputs": [],
   "source": [
    "pressures.sort()"
   ]
  },
  {
   "cell_type": "code",
   "execution_count": 59,
   "metadata": {
    "collapsed": false
   },
   "outputs": [
    {
     "data": {
      "text/plain": [
       "[0.01, 0.25, 0.98, 1.234]"
      ]
     },
     "execution_count": 59,
     "metadata": {},
     "output_type": "execute_result"
    }
   ],
   "source": [
    "pressures"
   ]
  },
  {
   "cell_type": "code",
   "execution_count": 60,
   "metadata": {
    "collapsed": false
   },
   "outputs": [
    {
     "data": {
      "text/plain": [
       "[0.01, 0.25, 0.98, 1.234]"
      ]
     },
     "execution_count": 60,
     "metadata": {},
     "output_type": "execute_result"
    }
   ],
   "source": [
    "pressures"
   ]
  },
  {
   "cell_type": "code",
   "execution_count": 61,
   "metadata": {
    "collapsed": true
   },
   "outputs": [],
   "source": [
    "pressures.sort()"
   ]
  },
  {
   "cell_type": "code",
   "execution_count": 62,
   "metadata": {
    "collapsed": false
   },
   "outputs": [
    {
     "data": {
      "text/plain": [
       "[0.01, 0.25, 0.98, 1.234]"
      ]
     },
     "execution_count": 62,
     "metadata": {},
     "output_type": "execute_result"
    }
   ],
   "source": [
    "pressures"
   ]
  },
  {
   "cell_type": "code",
   "execution_count": 63,
   "metadata": {
    "collapsed": true
   },
   "outputs": [],
   "source": [
    "element= \"element\""
   ]
  },
  {
   "cell_type": "code",
   "execution_count": 64,
   "metadata": {
    "collapsed": false
   },
   "outputs": [
    {
     "ename": "TypeError",
     "evalue": "'str' object does not support item assignment",
     "output_type": "error",
     "traceback": [
      "\u001b[0;31m---------------------------------------------------------------------------\u001b[0m",
      "\u001b[0;31mTypeError\u001b[0m                                 Traceback (most recent call last)",
      "\u001b[0;32m<ipython-input-64-060d88b20463>\u001b[0m in \u001b[0;36m<module>\u001b[0;34m()\u001b[0m\n\u001b[0;32m----> 1\u001b[0;31m \u001b[0melement\u001b[0m\u001b[0;34m[\u001b[0m\u001b[0;36m0\u001b[0m\u001b[0;34m]\u001b[0m\u001b[0;34m=\u001b[0m\u001b[0;34m'a'\u001b[0m\u001b[0;34m\u001b[0m\u001b[0m\n\u001b[0m",
      "\u001b[0;31mTypeError\u001b[0m: 'str' object does not support item assignment"
     ]
    }
   ],
   "source": [
    "element[0]='a'"
   ]
  },
  {
   "cell_type": "markdown",
   "metadata": {},
   "source": [
    "Key item: Return a result from function or work on the item(list) that is being called!"
   ]
  },
  {
   "cell_type": "code",
   "execution_count": 65,
   "metadata": {
    "collapsed": false
   },
   "outputs": [
    {
     "name": "stdout",
     "output_type": "stream",
     "text": [
      "letters is  ['g', 'o', 'l', 'd'] result is  ['d', 'g', 'l', 'o']\n"
     ]
    }
   ],
   "source": [
    "# Program A\n",
    "letters = list('gold')\n",
    "result = sorted(letters) # returns the sorted item and leaves letters as is\n",
    "print('letters is ', letters, 'result is ',result)"
   ]
  },
  {
   "cell_type": "code",
   "execution_count": 66,
   "metadata": {
    "collapsed": false
   },
   "outputs": [
    {
     "name": "stdout",
     "output_type": "stream",
     "text": [
      "letters is  ['d', 'g', 'l', 'o'] result is  None\n"
     ]
    }
   ],
   "source": [
    "#program B\n",
    "letters = list('gold')\n",
    "result = letters.sort() # Nothing returned to result and letters are sorted\n",
    "print('letters is ', letters, 'result is ',result)"
   ]
  },
  {
   "cell_type": "markdown",
   "metadata": {},
   "source": [
    "### Loops\n",
    "\n",
    "Types of loops:\n",
    "    \n",
    "    * for loops\n",
    "    * while loops\n",
    "    * nested loops"
   ]
  },
  {
   "cell_type": "code",
   "execution_count": 67,
   "metadata": {
    "collapsed": false
   },
   "outputs": [
    {
     "name": "stdout",
     "output_type": "stream",
     "text": [
      "2\n",
      "3\n",
      "4\n"
     ]
    }
   ],
   "source": [
    "for num in [2,3,4]:\n",
    "    print(num)"
   ]
  },
  {
   "cell_type": "code",
   "execution_count": 68,
   "metadata": {
    "collapsed": false
   },
   "outputs": [
    {
     "data": {
      "text/plain": [
       "4"
      ]
     },
     "execution_count": 68,
     "metadata": {},
     "output_type": "execute_result"
    }
   ],
   "source": [
    "num"
   ]
  },
  {
   "cell_type": "code",
   "execution_count": 69,
   "metadata": {
    "collapsed": false
   },
   "outputs": [
    {
     "name": "stdout",
     "output_type": "stream",
     "text": [
      "0\n",
      "2\n",
      "4\n",
      "6\n",
      "8\n",
      "10\n"
     ]
    }
   ],
   "source": [
    "for num in range(0,11,2):\n",
    "    print (num)"
   ]
  },
  {
   "cell_type": "markdown",
   "metadata": {},
   "source": [
    "## Loops"
   ]
  },
  {
   "cell_type": "code",
   "execution_count": 70,
   "metadata": {
    "collapsed": false
   },
   "outputs": [
    {
     "name": "stdout",
     "output_type": "stream",
     "text": [
      "data/gapminder_gdp_africa.csv gdpPercap_1952    298.846212\n",
      "gdpPercap_1957    335.997115\n",
      "gdpPercap_1962    355.203227\n",
      "gdpPercap_1967    412.977514\n",
      "gdpPercap_1972    464.099504\n",
      "gdpPercap_1977    502.319733\n",
      "gdpPercap_1982    462.211415\n",
      "gdpPercap_1987    389.876185\n",
      "gdpPercap_1992    410.896824\n",
      "gdpPercap_1997    312.188423\n",
      "gdpPercap_2002    241.165877\n",
      "gdpPercap_2007    277.551859\n",
      "dtype: float64\n",
      "data/gapminder_gdp_asia.csv gdpPercap_1952    331.0\n",
      "gdpPercap_1957    350.0\n",
      "gdpPercap_1962    388.0\n",
      "gdpPercap_1967    349.0\n",
      "gdpPercap_1972    357.0\n",
      "gdpPercap_1977    371.0\n",
      "gdpPercap_1982    424.0\n",
      "gdpPercap_1987    385.0\n",
      "gdpPercap_1992    347.0\n",
      "gdpPercap_1997    415.0\n",
      "gdpPercap_2002    611.0\n",
      "gdpPercap_2007    944.0\n",
      "dtype: float64\n"
     ]
    }
   ],
   "source": [
    "for filename in ['data/gapminder_gdp_africa.csv','data/gapminder_gdp_asia.csv']:\n",
    "    data =pd.read_csv(filename,index_col='country')\n",
    "    print (filename, data.min())"
   ]
  },
  {
   "cell_type": "code",
   "execution_count": 71,
   "metadata": {
    "collapsed": true
   },
   "outputs": [],
   "source": [
    "from glob import glob"
   ]
  },
  {
   "cell_type": "code",
   "execution_count": 72,
   "metadata": {
    "collapsed": false
   },
   "outputs": [
    {
     "name": "stdout",
     "output_type": "stream",
     "text": [
      "all csv files ['data/gapminder_all.csv', 'data/gapminder_gdp_africa.csv', 'data/gapminder_gdp_americas.csv', 'data/gapminder_gdp_asia.csv', 'data/gapminder_gdp_europe.csv', 'data/gapminder_gdp_oceania.csv']\n"
     ]
    }
   ],
   "source": [
    "print('all csv files',glob('data/*.csv'))"
   ]
  },
  {
   "cell_type": "code",
   "execution_count": 73,
   "metadata": {
    "collapsed": false
   },
   "outputs": [
    {
     "name": "stdout",
     "output_type": "stream",
     "text": [
      "data/gapminder_all.csv continent MIN VALUE: Oceania\n",
      "data/gapminder_all.csv gdpPercap_1952 MIN VALUE: 108382.3529\n",
      "data/gapminder_all.csv gdpPercap_1957 MIN VALUE: 113523.1329\n",
      "data/gapminder_all.csv gdpPercap_1962 MIN VALUE: 95458.11176\n",
      "data/gapminder_all.csv gdpPercap_1967 MIN VALUE: 80894.88326\n",
      "data/gapminder_all.csv gdpPercap_1972 MIN VALUE: 109347.867\n",
      "data/gapminder_all.csv gdpPercap_1977 MIN VALUE: 59265.47714\n",
      "data/gapminder_all.csv gdpPercap_1982 MIN VALUE: 33693.17525\n",
      "data/gapminder_all.csv gdpPercap_1987 MIN VALUE: 31540.9748\n",
      "data/gapminder_all.csv gdpPercap_1992 MIN VALUE: 34932.91959\n",
      "data/gapminder_all.csv gdpPercap_1997 MIN VALUE: 41283.16433\n",
      "data/gapminder_all.csv gdpPercap_2002 MIN VALUE: 44683.97525\n",
      "data/gapminder_all.csv gdpPercap_2007 MIN VALUE: 49357.19017\n",
      "data/gapminder_all.csv lifeExp_1952 MIN VALUE: 72.67\n",
      "data/gapminder_all.csv lifeExp_1957 MIN VALUE: 73.47\n",
      "data/gapminder_all.csv lifeExp_1962 MIN VALUE: 73.68\n",
      "data/gapminder_all.csv lifeExp_1967 MIN VALUE: 74.16\n",
      "data/gapminder_all.csv lifeExp_1972 MIN VALUE: 74.72\n",
      "data/gapminder_all.csv lifeExp_1977 MIN VALUE: 76.11\n",
      "data/gapminder_all.csv lifeExp_1982 MIN VALUE: 77.11\n",
      "data/gapminder_all.csv lifeExp_1987 MIN VALUE: 78.67\n",
      "data/gapminder_all.csv lifeExp_1992 MIN VALUE: 79.36\n",
      "data/gapminder_all.csv lifeExp_1997 MIN VALUE: 80.69\n",
      "data/gapminder_all.csv lifeExp_2002 MIN VALUE: 82.0\n",
      "data/gapminder_all.csv lifeExp_2007 MIN VALUE: 82.603\n",
      "data/gapminder_all.csv pop_1952 MIN VALUE: 556263528.0\n",
      "data/gapminder_all.csv pop_1957 MIN VALUE: 637408000.0\n",
      "data/gapminder_all.csv pop_1962 MIN VALUE: 665770000.0\n",
      "data/gapminder_all.csv pop_1967 MIN VALUE: 754550000.0\n",
      "data/gapminder_all.csv pop_1972 MIN VALUE: 862030000.0\n",
      "data/gapminder_all.csv pop_1977 MIN VALUE: 943455000.0\n",
      "data/gapminder_all.csv pop_1982 MIN VALUE: 1000281000.0\n",
      "data/gapminder_all.csv pop_1987 MIN VALUE: 1084035000.0\n",
      "data/gapminder_all.csv pop_1992 MIN VALUE: 1164970000.0\n",
      "data/gapminder_all.csv pop_1997 MIN VALUE: 1230075000.0\n",
      "data/gapminder_all.csv pop_2002 MIN VALUE: 1280400000\n",
      "data/gapminder_all.csv pop_2007 MIN VALUE: 1318683096\n",
      "data/gapminder_gdp_africa.csv gdpPercap_1952 MIN VALUE: 4725.295531\n",
      "data/gapminder_gdp_africa.csv gdpPercap_1957 MIN VALUE: 5487.104219\n",
      "data/gapminder_gdp_africa.csv gdpPercap_1962 MIN VALUE: 6757.030816\n",
      "data/gapminder_gdp_africa.csv gdpPercap_1967 MIN VALUE: 18772.75169\n",
      "data/gapminder_gdp_africa.csv gdpPercap_1972 MIN VALUE: 21011.49721\n",
      "data/gapminder_gdp_africa.csv gdpPercap_1977 MIN VALUE: 21951.21176\n",
      "data/gapminder_gdp_africa.csv gdpPercap_1982 MIN VALUE: 17364.27538\n",
      "data/gapminder_gdp_africa.csv gdpPercap_1987 MIN VALUE: 11864.40844\n",
      "data/gapminder_gdp_africa.csv gdpPercap_1992 MIN VALUE: 13522.15752\n",
      "data/gapminder_gdp_africa.csv gdpPercap_1997 MIN VALUE: 14722.84188\n",
      "data/gapminder_gdp_africa.csv gdpPercap_2002 MIN VALUE: 12521.71392\n",
      "data/gapminder_gdp_africa.csv gdpPercap_2007 MIN VALUE: 13206.48452\n",
      "data/gapminder_gdp_americas.csv continent MIN VALUE: Americas\n",
      "data/gapminder_gdp_americas.csv gdpPercap_1952 MIN VALUE: 13990.48208\n",
      "data/gapminder_gdp_americas.csv gdpPercap_1957 MIN VALUE: 14847.12712\n",
      "data/gapminder_gdp_americas.csv gdpPercap_1962 MIN VALUE: 16173.14586\n",
      "data/gapminder_gdp_americas.csv gdpPercap_1967 MIN VALUE: 19530.36557\n",
      "data/gapminder_gdp_americas.csv gdpPercap_1972 MIN VALUE: 21806.03594\n",
      "data/gapminder_gdp_americas.csv gdpPercap_1977 MIN VALUE: 24072.63213\n",
      "data/gapminder_gdp_americas.csv gdpPercap_1982 MIN VALUE: 25009.55914\n",
      "data/gapminder_gdp_americas.csv gdpPercap_1987 MIN VALUE: 29884.35041\n",
      "data/gapminder_gdp_americas.csv gdpPercap_1992 MIN VALUE: 32003.93224\n",
      "data/gapminder_gdp_americas.csv gdpPercap_1997 MIN VALUE: 35767.43303\n",
      "data/gapminder_gdp_americas.csv gdpPercap_2002 MIN VALUE: 39097.09955\n",
      "data/gapminder_gdp_americas.csv gdpPercap_2007 MIN VALUE: 42951.65309\n",
      "data/gapminder_gdp_asia.csv gdpPercap_1952 MIN VALUE: 108382.3529\n",
      "data/gapminder_gdp_asia.csv gdpPercap_1957 MIN VALUE: 113523.1329\n",
      "data/gapminder_gdp_asia.csv gdpPercap_1962 MIN VALUE: 95458.11176\n",
      "data/gapminder_gdp_asia.csv gdpPercap_1967 MIN VALUE: 80894.88326\n",
      "data/gapminder_gdp_asia.csv gdpPercap_1972 MIN VALUE: 109347.867\n",
      "data/gapminder_gdp_asia.csv gdpPercap_1977 MIN VALUE: 59265.47714\n",
      "data/gapminder_gdp_asia.csv gdpPercap_1982 MIN VALUE: 33693.17525\n",
      "data/gapminder_gdp_asia.csv gdpPercap_1987 MIN VALUE: 28118.42998\n",
      "data/gapminder_gdp_asia.csv gdpPercap_1992 MIN VALUE: 34932.91959\n",
      "data/gapminder_gdp_asia.csv gdpPercap_1997 MIN VALUE: 40300.61996\n",
      "data/gapminder_gdp_asia.csv gdpPercap_2002 MIN VALUE: 36023.1054\n",
      "data/gapminder_gdp_asia.csv gdpPercap_2007 MIN VALUE: 47306.98978\n",
      "data/gapminder_gdp_europe.csv gdpPercap_1952 MIN VALUE: 14734.23275\n",
      "data/gapminder_gdp_europe.csv gdpPercap_1957 MIN VALUE: 17909.48973\n",
      "data/gapminder_gdp_europe.csv gdpPercap_1962 MIN VALUE: 20431.0927\n",
      "data/gapminder_gdp_europe.csv gdpPercap_1967 MIN VALUE: 22966.14432\n",
      "data/gapminder_gdp_europe.csv gdpPercap_1972 MIN VALUE: 27195.11304\n",
      "data/gapminder_gdp_europe.csv gdpPercap_1977 MIN VALUE: 26982.29052\n",
      "data/gapminder_gdp_europe.csv gdpPercap_1982 MIN VALUE: 28397.71512\n",
      "data/gapminder_gdp_europe.csv gdpPercap_1987 MIN VALUE: 31540.9748\n",
      "data/gapminder_gdp_europe.csv gdpPercap_1992 MIN VALUE: 33965.66115\n",
      "data/gapminder_gdp_europe.csv gdpPercap_1997 MIN VALUE: 41283.16433\n",
      "data/gapminder_gdp_europe.csv gdpPercap_2002 MIN VALUE: 44683.97525\n",
      "data/gapminder_gdp_europe.csv gdpPercap_2007 MIN VALUE: 49357.19017\n",
      "data/gapminder_gdp_oceania.csv gdpPercap_1952 MIN VALUE: 10556.57566\n",
      "data/gapminder_gdp_oceania.csv gdpPercap_1957 MIN VALUE: 12247.39532\n",
      "data/gapminder_gdp_oceania.csv gdpPercap_1962 MIN VALUE: 13175.678\n",
      "data/gapminder_gdp_oceania.csv gdpPercap_1967 MIN VALUE: 14526.12465\n",
      "data/gapminder_gdp_oceania.csv gdpPercap_1972 MIN VALUE: 16788.62948\n",
      "data/gapminder_gdp_oceania.csv gdpPercap_1977 MIN VALUE: 18334.19751\n",
      "data/gapminder_gdp_oceania.csv gdpPercap_1982 MIN VALUE: 19477.00928\n",
      "data/gapminder_gdp_oceania.csv gdpPercap_1987 MIN VALUE: 21888.88903\n",
      "data/gapminder_gdp_oceania.csv gdpPercap_1992 MIN VALUE: 23424.76683\n",
      "data/gapminder_gdp_oceania.csv gdpPercap_1997 MIN VALUE: 26997.93657\n",
      "data/gapminder_gdp_oceania.csv gdpPercap_2002 MIN VALUE: 30687.75473\n",
      "data/gapminder_gdp_oceania.csv gdpPercap_2007 MIN VALUE: 34435.36744\n"
     ]
    }
   ],
   "source": [
    "for filename in glob('data/*.csv'):\n",
    "    data = pd.read_csv(filename,index_col=\"country\")\n",
    "    for col in data.columns:\n",
    "        try:\n",
    "            print (filename,col,\"MIN VALUE:\",data[col].max())\n",
    "        except:\n",
    "            print(\"ERROR\",filename,col)"
   ]
  },
  {
   "cell_type": "code",
   "execution_count": 74,
   "metadata": {
    "collapsed": false
   },
   "outputs": [
    {
     "data": {
      "text/plain": [
       "Index(['gdpPercap_1952', 'gdpPercap_1957', 'gdpPercap_1962', 'gdpPercap_1967',\n",
       "       'gdpPercap_1972', 'gdpPercap_1977', 'gdpPercap_1982', 'gdpPercap_1987',\n",
       "       'gdpPercap_1992', 'gdpPercap_1997', 'gdpPercap_2002', 'gdpPercap_2007'],\n",
       "      dtype='object')"
      ]
     },
     "execution_count": 74,
     "metadata": {},
     "output_type": "execute_result"
    }
   ],
   "source": [
    "data.columns\n"
   ]
  },
  {
   "cell_type": "markdown",
   "metadata": {},
   "source": [
    "### Functions\n",
    "\n",
    "Function args, kwargs.\n"
   ]
  },
  {
   "cell_type": "code",
   "execution_count": 75,
   "metadata": {
    "collapsed": true
   },
   "outputs": [],
   "source": [
    "def print_greetings(arg1,name=\"Mark Stacy\",age=100):\n",
    "    my_var=\"years old\"\n",
    "    print(\"Name:\",name.upper(), \"Age:\",age,my_var)"
   ]
  },
  {
   "cell_type": "code",
   "execution_count": 76,
   "metadata": {
    "collapsed": false
   },
   "outputs": [
    {
     "name": "stdout",
     "output_type": "stream",
     "text": [
      "Name: MARK STACY Age: 39 years old\n"
     ]
    }
   ],
   "source": [
    "print_greetings(\"test\",age=39)"
   ]
  },
  {
   "cell_type": "markdown",
   "metadata": {},
   "source": [
    "Variable scope: my_var is only available within the function. Thus an error."
   ]
  },
  {
   "cell_type": "code",
   "execution_count": 77,
   "metadata": {
    "collapsed": false
   },
   "outputs": [
    {
     "ename": "NameError",
     "evalue": "name 'my_var' is not defined",
     "output_type": "error",
     "traceback": [
      "\u001b[0;31m---------------------------------------------------------------------------\u001b[0m",
      "\u001b[0;31mNameError\u001b[0m                                 Traceback (most recent call last)",
      "\u001b[0;32m<ipython-input-77-a24c0bd6fe9c>\u001b[0m in \u001b[0;36m<module>\u001b[0;34m()\u001b[0m\n\u001b[0;32m----> 1\u001b[0;31m \u001b[0mmy_var\u001b[0m\u001b[0;34m\u001b[0m\u001b[0m\n\u001b[0m",
      "\u001b[0;31mNameError\u001b[0m: name 'my_var' is not defined"
     ]
    }
   ],
   "source": [
    "my_var"
   ]
  },
  {
   "cell_type": "markdown",
   "metadata": {},
   "source": [
    "## Conditionals"
   ]
  },
  {
   "cell_type": "code",
   "execution_count": 78,
   "metadata": {
    "collapsed": false
   },
   "outputs": [
    {
     "name": "stdout",
     "output_type": "stream",
     "text": [
      "Value = 20\n"
     ]
    }
   ],
   "source": [
    "my_var=20\n",
    "if my_var >20:\n",
    "    print(\"Greater than 20\")\n",
    "    print(\"or Equal 20\")\n",
    "elif my_var<20:\n",
    "    print (\"less 20\")\n",
    "else:\n",
    "    print(\"Value = 20\")\n",
    "\n",
    "    "
   ]
  },
  {
   "cell_type": "code",
   "execution_count": 79,
   "metadata": {
    "collapsed": false
   },
   "outputs": [
    {
     "data": {
      "text/plain": [
       "False"
      ]
     },
     "execution_count": 79,
     "metadata": {},
     "output_type": "execute_result"
    }
   ],
   "source": [
    "my_var >20\n"
   ]
  },
  {
   "cell_type": "code",
   "execution_count": null,
   "metadata": {
    "collapsed": true
   },
   "outputs": [],
   "source": []
  }
 ],
 "metadata": {
  "kernelspec": {
   "display_name": "Python 3",
   "language": "python",
   "name": "python3"
  },
  "language_info": {
   "codemirror_mode": {
    "name": "ipython",
    "version": 3
   },
   "file_extension": ".py",
   "mimetype": "text/x-python",
   "name": "python",
   "nbconvert_exporter": "python",
   "pygments_lexer": "ipython3",
   "version": "3.6.0"
  }
 },
 "nbformat": 4,
 "nbformat_minor": 2
}
